{
 "cells": [
  {
   "cell_type": "markdown",
   "id": "5b476246-2b68-412e-bbf4-a1d24d4d146d",
   "metadata": {},
   "source": [
    "# **LOAD DATASET**"
   ]
  },
  {
   "cell_type": "code",
   "execution_count": 1,
   "id": "81864d42-46dc-4b36-9892-2ce0afa4e53d",
   "metadata": {},
   "outputs": [
    {
     "data": {
      "text/html": [
       "<div>\n",
       "<style scoped>\n",
       "    .dataframe tbody tr th:only-of-type {\n",
       "        vertical-align: middle;\n",
       "    }\n",
       "\n",
       "    .dataframe tbody tr th {\n",
       "        vertical-align: top;\n",
       "    }\n",
       "\n",
       "    .dataframe thead th {\n",
       "        text-align: right;\n",
       "    }\n",
       "</style>\n",
       "<table border=\"1\" class=\"dataframe\">\n",
       "  <thead>\n",
       "    <tr style=\"text-align: right;\">\n",
       "      <th></th>\n",
       "      <th>spot_id</th>\n",
       "      <th>img</th>\n",
       "      <th>label</th>\n",
       "      <th>Mbp</th>\n",
       "      <th>Fth1</th>\n",
       "      <th>Yam1</th>\n",
       "      <th>Plp1</th>\n",
       "      <th>Malat1</th>\n",
       "      <th>Apoe</th>\n",
       "      <th>Nefl</th>\n",
       "      <th>...</th>\n",
       "      <th>Nrsn2</th>\n",
       "      <th>Cdh2</th>\n",
       "      <th>Thra</th>\n",
       "      <th>Ptprd</th>\n",
       "      <th>Ddx3y</th>\n",
       "      <th>Fam57b</th>\n",
       "      <th>Ttbk2</th>\n",
       "      <th>Ndufa7</th>\n",
       "      <th>X</th>\n",
       "      <th>Y</th>\n",
       "    </tr>\n",
       "  </thead>\n",
       "  <tbody>\n",
       "    <tr>\n",
       "      <th>0</th>\n",
       "      <td>CN51_C2_2_1.996x25.956</td>\n",
       "      <td>../dataset/tile\\CN51_C2_2\\CN51_C2_2-1.996-25.9...</td>\n",
       "      <td>p70</td>\n",
       "      <td>0.042490</td>\n",
       "      <td>0.031227</td>\n",
       "      <td>0.0</td>\n",
       "      <td>0.025547</td>\n",
       "      <td>0.005826</td>\n",
       "      <td>0.004165</td>\n",
       "      <td>0.000000</td>\n",
       "      <td>...</td>\n",
       "      <td>0.0</td>\n",
       "      <td>0.0</td>\n",
       "      <td>0.0</td>\n",
       "      <td>0.001668</td>\n",
       "      <td>0.0</td>\n",
       "      <td>0.000000</td>\n",
       "      <td>0.000000</td>\n",
       "      <td>0.0</td>\n",
       "      <td>1.996</td>\n",
       "      <td>25.956</td>\n",
       "    </tr>\n",
       "    <tr>\n",
       "      <th>1</th>\n",
       "      <td>CN51_C2_2_2.004x26.954</td>\n",
       "      <td>../dataset/tile\\CN51_C2_2\\CN51_C2_2-2.004-26.9...</td>\n",
       "      <td>p70</td>\n",
       "      <td>0.043514</td>\n",
       "      <td>0.052505</td>\n",
       "      <td>0.0</td>\n",
       "      <td>0.021334</td>\n",
       "      <td>0.002692</td>\n",
       "      <td>0.002692</td>\n",
       "      <td>0.000000</td>\n",
       "      <td>...</td>\n",
       "      <td>0.0</td>\n",
       "      <td>0.0</td>\n",
       "      <td>0.0</td>\n",
       "      <td>0.000000</td>\n",
       "      <td>0.0</td>\n",
       "      <td>0.001347</td>\n",
       "      <td>0.001347</td>\n",
       "      <td>0.0</td>\n",
       "      <td>2.004</td>\n",
       "      <td>26.954</td>\n",
       "    </tr>\n",
       "    <tr>\n",
       "      <th>2</th>\n",
       "      <td>CN51_C2_2_2.006x31.917</td>\n",
       "      <td>../dataset/tile\\CN51_C2_2\\CN51_C2_2-2.006-31.9...</td>\n",
       "      <td>p70</td>\n",
       "      <td>0.050841</td>\n",
       "      <td>0.034180</td>\n",
       "      <td>0.0</td>\n",
       "      <td>0.018602</td>\n",
       "      <td>0.012440</td>\n",
       "      <td>0.002778</td>\n",
       "      <td>0.000695</td>\n",
       "      <td>...</td>\n",
       "      <td>0.0</td>\n",
       "      <td>0.0</td>\n",
       "      <td>0.0</td>\n",
       "      <td>0.002084</td>\n",
       "      <td>0.0</td>\n",
       "      <td>0.000000</td>\n",
       "      <td>0.000000</td>\n",
       "      <td>0.0</td>\n",
       "      <td>2.006</td>\n",
       "      <td>31.917</td>\n",
       "    </tr>\n",
       "    <tr>\n",
       "      <th>3</th>\n",
       "      <td>CN51_C2_2_2.007x29.936</td>\n",
       "      <td>../dataset/tile\\CN51_C2_2\\CN51_C2_2-2.007-29.9...</td>\n",
       "      <td>p70</td>\n",
       "      <td>0.005889</td>\n",
       "      <td>0.004100</td>\n",
       "      <td>0.0</td>\n",
       "      <td>0.004356</td>\n",
       "      <td>0.003845</td>\n",
       "      <td>0.000770</td>\n",
       "      <td>0.001283</td>\n",
       "      <td>...</td>\n",
       "      <td>0.0</td>\n",
       "      <td>0.0</td>\n",
       "      <td>0.0</td>\n",
       "      <td>0.000000</td>\n",
       "      <td>0.0</td>\n",
       "      <td>0.000257</td>\n",
       "      <td>0.000000</td>\n",
       "      <td>0.0</td>\n",
       "      <td>2.007</td>\n",
       "      <td>29.936</td>\n",
       "    </tr>\n",
       "    <tr>\n",
       "      <th>4</th>\n",
       "      <td>CN51_C2_2_2.007x32.938</td>\n",
       "      <td>../dataset/tile\\CN51_C2_2\\CN51_C2_2-2.007-32.9...</td>\n",
       "      <td>p70</td>\n",
       "      <td>0.065785</td>\n",
       "      <td>0.049740</td>\n",
       "      <td>0.0</td>\n",
       "      <td>0.028417</td>\n",
       "      <td>0.010294</td>\n",
       "      <td>0.001477</td>\n",
       "      <td>0.001477</td>\n",
       "      <td>...</td>\n",
       "      <td>0.0</td>\n",
       "      <td>0.0</td>\n",
       "      <td>0.0</td>\n",
       "      <td>0.002215</td>\n",
       "      <td>0.0</td>\n",
       "      <td>0.000000</td>\n",
       "      <td>0.000000</td>\n",
       "      <td>0.0</td>\n",
       "      <td>2.007</td>\n",
       "      <td>32.938</td>\n",
       "    </tr>\n",
       "  </tbody>\n",
       "</table>\n",
       "<p>5 rows × 1005 columns</p>\n",
       "</div>"
      ],
      "text/plain": [
       "                  spot_id                                                img  \\\n",
       "0  CN51_C2_2_1.996x25.956  ../dataset/tile\\CN51_C2_2\\CN51_C2_2-1.996-25.9...   \n",
       "1  CN51_C2_2_2.004x26.954  ../dataset/tile\\CN51_C2_2\\CN51_C2_2-2.004-26.9...   \n",
       "2  CN51_C2_2_2.006x31.917  ../dataset/tile\\CN51_C2_2\\CN51_C2_2-2.006-31.9...   \n",
       "3  CN51_C2_2_2.007x29.936  ../dataset/tile\\CN51_C2_2\\CN51_C2_2-2.007-29.9...   \n",
       "4  CN51_C2_2_2.007x32.938  ../dataset/tile\\CN51_C2_2\\CN51_C2_2-2.007-32.9...   \n",
       "\n",
       "  label       Mbp      Fth1  Yam1      Plp1    Malat1      Apoe      Nefl  \\\n",
       "0   p70  0.042490  0.031227   0.0  0.025547  0.005826  0.004165  0.000000   \n",
       "1   p70  0.043514  0.052505   0.0  0.021334  0.002692  0.002692  0.000000   \n",
       "2   p70  0.050841  0.034180   0.0  0.018602  0.012440  0.002778  0.000695   \n",
       "3   p70  0.005889  0.004100   0.0  0.004356  0.003845  0.000770  0.001283   \n",
       "4   p70  0.065785  0.049740   0.0  0.028417  0.010294  0.001477  0.001477   \n",
       "\n",
       "   ...  Nrsn2  Cdh2  Thra     Ptprd  Ddx3y    Fam57b     Ttbk2  Ndufa7      X  \\\n",
       "0  ...    0.0   0.0   0.0  0.001668    0.0  0.000000  0.000000     0.0  1.996   \n",
       "1  ...    0.0   0.0   0.0  0.000000    0.0  0.001347  0.001347     0.0  2.004   \n",
       "2  ...    0.0   0.0   0.0  0.002084    0.0  0.000000  0.000000     0.0  2.006   \n",
       "3  ...    0.0   0.0   0.0  0.000000    0.0  0.000257  0.000000     0.0  2.007   \n",
       "4  ...    0.0   0.0   0.0  0.002215    0.0  0.000000  0.000000     0.0  2.007   \n",
       "\n",
       "        Y  \n",
       "0  25.956  \n",
       "1  26.954  \n",
       "2  31.917  \n",
       "3  29.936  \n",
       "4  32.938  \n",
       "\n",
       "[5 rows x 1005 columns]"
      ]
     },
     "execution_count": 1,
     "metadata": {},
     "output_type": "execute_result"
    }
   ],
   "source": [
    "import numpy as np\n",
    "import pandas as pd\n",
    "import matplotlib.pyplot as plt\n",
    "from sklearn.model_selection import train_test_split\n",
    "from sklearn.preprocessing import LabelEncoder\n",
    "from imblearn.over_sampling import SMOTE\n",
    "import tensorflow as tf\n",
    "from tensorflow.keras.models import Sequential\n",
    "from tensorflow.keras.layers import Dense\n",
    "import os\n",
    "import random\n",
    "\n",
    "\n",
    "def seed_everything(seed=42):\n",
    "    os.environ['PYTHONHASHSEED'] = str(seed)  # Set Python random seed\n",
    "    random.seed(seed)\n",
    "    np.random.seed(seed)\n",
    "    tf.random.set_seed(seed)\n",
    "    os.environ['TF_DETERMINISTIC_OPS'] = '0'  \n",
    "    tf.config.experimental.enable_op_determinism()  # For newer TF versions\n",
    "\n",
    "seed_everything(42)\n",
    "\n",
    "COMBINED_PATH = '../dataset/combined_df.tsv'  # Update with your path\n",
    "combined_df = pd.read_csv(COMBINED_PATH, sep=\"\\t\")\n",
    "combined_df.head()"
   ]
  },
  {
   "cell_type": "code",
   "execution_count": 3,
   "id": "716da5d3-1ed2-4284-8414-17a935a6f155",
   "metadata": {},
   "outputs": [
    {
     "data": {
      "image/png": "[encoded data removed]",
      "text/plain": [
       "<Figure size 640x480 with 1 Axes>"
      ]
     },
     "metadata": {},
     "output_type": "display_data"
    }
   ],
   "source": [
    "import os\n",
    "import cv2\n",
    "import numpy as np\n",
    "import matplotlib.pyplot as plt\n",
    "\n",
    "def load_and_preprocess_image(img_path, target_size=(224, 224)):\n",
    "    # Replace backslashes with forward slashes to standardize the path format\n",
    "    img_path = img_path.replace(\"\\\\\", \"/\")\n",
    "    \n",
    "    # Check if the image file exists\n",
    "    if not os.path.exists(img_path):\n",
    "        print(f\"Error: Image not found at {img_path}\")\n",
    "        return None\n",
    "    \n",
    "    # Read and process the image\n",
    "    image = cv2.imread(img_path)\n",
    "    \n",
    "    if image is None:\n",
    "        print(f\"Error loading image: {img_path}\")\n",
    "        return None\n",
    "    \n",
    "    image = cv2.cvtColor(image, cv2.COLOR_BGR2RGB)\n",
    "    image = cv2.resize(image, target_size)\n",
    "    image = image.astype(np.float32) / 255.0\n",
    "    return image\n",
    "\n",
    "# Apply the preprocessing to all images in the dataset\n",
    "image_data = []\n",
    "for img_path in combined_df['img']:\n",
    "    processed_image = load_and_preprocess_image(img_path)\n",
    "    if processed_image is not None:\n",
    "        image_data.append(processed_image)\n",
    "\n",
    "image_data = np.array(image_data)\n",
    "\n",
    "# Display one of the images to verify\n",
    "if len(image_data) > 0:\n",
    "    plt.imshow(image_data[0])\n",
    "    plt.axis('off')  # Hide axes\n",
    "    plt.show()\n",
    "else:\n",
    "    print(\"No images to display.\")\n"
   ]
  },
  {
   "cell_type": "code",
   "execution_count": 5,
   "id": "e6d917dd-65ac-4d23-9f7d-0990b08bbafb",
   "metadata": {},
   "outputs": [
    {
     "name": "stdout",
     "output_type": "stream",
     "text": [
      "0    ../dataset/tile\\CN51_C2_2\\CN51_C2_2-1.996-25.9...\n",
      "1    ../dataset/tile\\CN51_C2_2\\CN51_C2_2-2.004-26.9...\n",
      "2    ../dataset/tile\\CN51_C2_2\\CN51_C2_2-2.006-31.9...\n",
      "3    ../dataset/tile\\CN51_C2_2\\CN51_C2_2-2.007-29.9...\n",
      "4    ../dataset/tile\\CN51_C2_2\\CN51_C2_2-2.007-32.9...\n",
      "Name: img, dtype: object\n"
     ]
    }
   ],
   "source": [
    "print(combined_df['img'].head())  # Check first few image paths\n"
   ]
  },
  {
   "cell_type": "markdown",
   "id": "924bca53-c7aa-4b34-a146-e0a52b7f9e42",
   "metadata": {},
   "source": [
    "# **CREATING ADJACENT MATRIX 2**"
   ]
  },
  {
   "cell_type": "code",
   "execution_count": 7,
   "id": "744a37e0-4432-489c-a774-182380d374bc",
   "metadata": {},
   "outputs": [
    {
     "name": "stdout",
     "output_type": "stream",
     "text": [
      "Spatial adjacency:\n",
      "Shape: (2114, 2114), Density: 0.0027\n",
      "\n",
      "Expression adjacency:\n",
      "Expression adjacency density: 0.0115\n"
     ]
    }
   ],
   "source": [
    "import numpy as np\n",
    "import pandas as pd\n",
    "import tensorflow as tf\n",
    "import scipy.sparse as sp\n",
    "from tensorflow.keras import layers, Model\n",
    "from sklearn.neighbors import kneighbors_graph\n",
    "from spektral.layers import GCNConv\n",
    "from sklearn.preprocessing import StandardScaler\n",
    "\n",
    "def create_spatial_adj(df, k=15, metric='euclidean'):\n",
    "    \"\"\"Create spatial adjacency matrix using k-NN graph with validation.\"\"\"\n",
    "    coords = df[['X', 'Y']].values\n",
    "    \n",
    "    # Validate coordinates\n",
    "    assert coords.shape[1] == 2, \"Coordinates must be 2D\"\n",
    "    assert not np.isnan(coords).any(), \"NaNs in coordinate data\"\n",
    "    \n",
    "    # Create symmetric k-NN graph\n",
    "    adj = kneighbors_graph(coords, n_neighbors=k, metric=metric, \n",
    "                          mode='connectivity', include_self=True)\n",
    "    \n",
    "    # Ensure symmetric adjacency\n",
    "    adj = adj.maximum(adj.T)  # Force symmetry\n",
    "    return adj.tocsr().astype(np.float32)\n",
    "\n",
    "def create_expression_adj(df, k=15, metric='cosine'):\n",
    "    \"\"\"\n",
    "    Create sparse expression adjacency matrix using k-NN on normalized gene expression\n",
    "    \n",
    "    Parameters:\n",
    "        df (pd.DataFrame): Input data with gene expression columns\n",
    "        k (int): Number of nearest neighbors to connect\n",
    "        metric (str): Distance metric ('cosine', 'euclidean', etc.)\n",
    "    \n",
    "    Returns:\n",
    "        scipy.sparse.csr_matrix: Sparse adjacency matrix (shape: num_spots × num_spots)\n",
    "    \"\"\"\n",
    "    # Extract and normalize gene expression data\n",
    "    gene_data = df.iloc[:, 3:-2].values  # Shape: (num_spots, num_genes)\n",
    "    scaler = StandardScaler()\n",
    "    gene_data_normalized = scaler.fit_transform(gene_data)\n",
    "\n",
    "    # Create symmetric k-NN graph\n",
    "    adj = kneighbors_graph(gene_data_normalized, n_neighbors=k, \n",
    "                          metric=metric, include_self=True, mode='connectivity')\n",
    "    \n",
    "    # Ensure symmetry: if spot A is in B's neighbors, B should be in A's neighbors\n",
    "    adj = adj.maximum(adj.T)  # This creates a symmetric matrix\n",
    "    \n",
    "    return adj.astype(np.float32).tocsr()\n",
    "\n",
    "# Usage validation\n",
    "print(\"Spatial adjacency:\")\n",
    "spatial_adj = create_spatial_adj(combined_df, k=5)\n",
    "print(f\"Shape: {spatial_adj.shape}, Density: {spatial_adj.nnz / np.prod(spatial_adj.shape):.4f}\")\n",
    "\n",
    "print(\"\\nExpression adjacency:\")\n",
    "# Usage with validation\n",
    "expression_adj = create_expression_adj(combined_df, k=15)\n",
    "print(f\"Expression adjacency density: {expression_adj.nnz / (2114*2114):.4f}\")"
   ]
  },
  {
   "cell_type": "code",
   "execution_count": 9,
   "id": "9635934f-c9b4-4a77-8c7c-46edab2fd7d2",
   "metadata": {
    "scrolled": true
   },
   "outputs": [
    {
     "data": {
      "image/png": "[encoded data removed]",
      "text/plain": [
       "<Figure size 640x480 with 1 Axes>"
      ]
     },
     "metadata": {},
     "output_type": "display_data"
    },
    {
     "data": {
      "image/png": "[encoded data removed]",
      "text/plain": [
       "<Figure size 640x480 with 1 Axes>"
      ]
     },
     "metadata": {},
     "output_type": "display_data"
    }
   ],
   "source": [
    "assert spatial_adj.shape[0] == len(combined_df), \"Spatial adj row count mismatch\"\n",
    "assert expression_adj.shape[0] == len(combined_df), \"Expression adj row count mismatch\"\n",
    "\n",
    "# Visualize adjacency patterns\n",
    "import matplotlib.pyplot as plt\n",
    "\n",
    "plt.spy(spatial_adj[:100,:100], markersize=1)\n",
    "plt.title(\"Spatial Adjacency (First 100 Nodes)\")\n",
    "plt.show()\n",
    "\n",
    "plt.spy(expression_adj[:100,:100], markersize=1)\n",
    "plt.title(\"Expression Adjacency (First 100 Nodes)\")\n",
    "plt.show()"
   ]
  },
  {
   "cell_type": "code",
   "execution_count": 11,
   "id": "da55460a-f64b-49aa-806c-d556734b4aaa",
   "metadata": {},
   "outputs": [
    {
     "name": "stdout",
     "output_type": "stream",
     "text": [
      "Encoding labels since 'label_encoded' column is missing...\n"
     ]
    }
   ],
   "source": [
    "\n",
    "# Ensure 'label_encoded' exists\n",
    "from sklearn.preprocessing import LabelEncoder\n",
    "\n",
    "if 'label_encoded' not in combined_df.columns:\n",
    "    print(\"Encoding labels since 'label_encoded' column is missing...\")\n",
    "    le = LabelEncoder()\n",
    "    combined_df['label_encoded'] = le.fit_transform(combined_df['label'])  # Encode labels\n",
    "    num_classes = len(le.classes_)  # Get the number of unique classes\n",
    "else:\n",
    "    num_classes = combined_df['label_encoded'].nunique()  # If already exists, just count unique labels\n",
    "\n",
    "\n",
    "num_classes = len(le.classes_)"
   ]
  },
  {
   "cell_type": "code",
   "execution_count": 13,
   "id": "c80f0f58-00b2-476d-9caf-20efcbe572b7",
   "metadata": {},
   "outputs": [
    {
     "name": "stdout",
     "output_type": "stream",
     "text": [
      "Label Encoding Mapping:\n",
      "p100 → 0\n",
      "p120 → 1\n",
      "p30 → 2\n",
      "p70 → 3\n"
     ]
    }
   ],
   "source": [
    "print(\"Label Encoding Mapping:\")\n",
    "for idx, class_name in enumerate(le.classes_):\n",
    "    print(f\"{class_name} → {idx}\")"
   ]
  },
  {
   "cell_type": "markdown",
   "id": "79e8738c-b7d5-42f1-bd6a-0ab28ae5905e",
   "metadata": {},
   "source": [
    "# **DATA PIPELINE**"
   ]
  },
  {
   "cell_type": "code",
   "execution_count": 12,
   "id": "d1abf236-5ef6-49a7-a0c4-dd07ca0e9a84",
   "metadata": {},
   "outputs": [],
   "source": [
    "import numpy as np\n",
    "import tensorflow as tf\n",
    "from tensorflow.keras.utils import Sequence\n",
    "from scipy.sparse import csr_matrix\n",
    "\n",
    "class SpatialOmicsGenerator(Sequence):\n",
    "    def __init__(self, df, spot_ids, spatial_adj, expression_adj, batch_size=32, shuffle=True, augment=False, **kwargs):\n",
    "        super().__init__(**kwargs)\n",
    "\n",
    "        self.df = df.set_index('spot_id').loc[spot_ids]\n",
    "        self.batch_size = batch_size\n",
    "        self.shuffle = shuffle\n",
    "        self.augment = augment  # Flag to enable/disable augmentation\n",
    "        self.num_spots = len(spot_ids)\n",
    "\n",
    "        # Mapping spot_id (string) to index\n",
    "        self.full_adj_indices = {sid: idx for idx, sid in enumerate(spot_ids)}\n",
    "\n",
    "        # Store adjacency matrices in CSR format\n",
    "        self.spatial_adj = spatial_adj.tocsr()\n",
    "        self.expression_adj = expression_adj.tocsr()\n",
    "\n",
    "        # Identify metadata columns to exclude\n",
    "        exclude_columns = {\"spot_id\", \"img\", \"label\", \"X\", \"Y\", \"label_encoded\", \"stage_encoded\"}\n",
    "        self.gene_columns = [col for col in self.df.columns if col not in exclude_columns]\n",
    "\n",
    "        # Ensure exactly 1000 features\n",
    "        if len(self.gene_columns) > 1000:\n",
    "            self.gene_columns = self.gene_columns[:1000]\n",
    "        elif len(self.gene_columns) < 1000:\n",
    "            raise ValueError(f\"Expected 1000 gene features, but found {len(self.gene_columns)}\")\n",
    "\n",
    "    def get_subgraph(self, adj, batch_ids, max_size=32):\n",
    "        \"\"\"Extracts a subgraph adjacency matrix and pads to (max_size, max_size) if needed.\"\"\"\n",
    "        batch_indices = [self.full_adj_indices[sid] for sid in batch_ids]\n",
    "        sub_adj = adj[batch_indices][:, batch_indices].toarray()\n",
    "    \n",
    "        # Ensure correct shape: (batch_size, 32, 32)\n",
    "        batch_size = len(batch_ids)\n",
    "        sub_adj = np.pad(sub_adj, ((0, max_size - sub_adj.shape[0]), (0, max_size - sub_adj.shape[1])), mode='constant')\n",
    "    \n",
    "        # Reshape properly before converting to tensor\n",
    "        sub_adj = np.expand_dims(sub_adj, axis=0)  # (1, 32, 32)\n",
    "        sub_adj = np.tile(sub_adj, (batch_size, 1, 1))  # (batch_size, 32, 32)\n",
    "    \n",
    "        return tf.convert_to_tensor(sub_adj, dtype=tf.float32)\n",
    "\n",
    "    def load_image(self, path):\n",
    "        \"\"\"Loads and processes images, applying augmentation if enabled.\"\"\"\n",
    "        img = tf.io.read_file(path)\n",
    "        img = tf.image.decode_png(img, channels=3)\n",
    "        img = tf.image.resize(img, [224, 224])\n",
    "\n",
    "        if self.augment:\n",
    "            img = self.augment_image(img)  # Apply augmentation during training\n",
    "\n",
    "        img = tf.keras.applications.resnet50.preprocess_input(img)  # Match ResNet50 preprocessing\n",
    "        return img\n",
    "\n",
    "    def augment_image(self, img):\n",
    "        img = tf.image.random_flip_left_right(img)\n",
    "        img = tf.image.random_flip_up_down(img)\n",
    "        img = tf.image.random_brightness(img, max_delta=0.1)\n",
    "    \n",
    "        return img\n",
    "\n",
    "\n",
    "    def __len__(self):\n",
    "        return int(np.ceil(self.num_spots / self.batch_size))\n",
    "\n",
    "    def __getitem__(self, idx):\n",
    "        start = idx * self.batch_size\n",
    "        end = min(start + self.batch_size, self.num_spots)\n",
    "        batch_ids = list(self.df.index[start:end])\n",
    "\n",
    "        if len(batch_ids) == 0:\n",
    "            return np.zeros((1, 1000)), np.zeros(1)\n",
    "\n",
    "        features = self.df.loc[batch_ids, self.gene_columns[:1000]].values.astype(np.float32)\n",
    "\n",
    "        # Fix adjacency matrices to be (B, 32, 32)\n",
    "        spatial_sub = self.get_subgraph(self.spatial_adj, batch_ids, max_size=32)\n",
    "        expr_sub = self.get_subgraph(self.expression_adj, batch_ids, max_size=32)\n",
    "\n",
    "        images = np.stack([self.load_image(path) for path in self.df.loc[batch_ids, 'img']])\n",
    "        labels = self.df.loc[batch_ids, 'label_encoded'].values\n",
    "\n",
    "        batch_data = {\n",
    "            'node_features': tf.convert_to_tensor(features, dtype=tf.float32),  # (B, 1000)\n",
    "            'spatial_adj': spatial_sub,  # (B, 32, 32)\n",
    "            'expression_adj': expr_sub,  # (B, 32, 32)\n",
    "            'image_input': images  # (B, 224, 224, 3)\n",
    "        }\n",
    "\n",
    "        return batch_data, labels  # Ensure tuple is returned\n"
   ]
  },
  {
   "cell_type": "markdown",
   "id": "5c883cd7-cf5b-4424-bfd8-aa960c6ff788",
   "metadata": {},
   "source": [
    "# **MODEL ARCHITECTURE**"
   ]
  },
  {
   "cell_type": "code",
   "execution_count": 14,
   "id": "f1d92e9b-fb51-499e-a273-2624f7e5f830",
   "metadata": {},
   "outputs": [
    {
     "name": "stdout",
     "output_type": "stream",
     "text": [
      "Model: \"model\"\n",
      "__________________________________________________________________________________________________\n",
      " Layer (type)                Output Shape                 Param #   Connected to                  \n",
      "==================================================================================================\n",
      " node_features (InputLayer)  [(None, 1000)]               0         []                            \n",
      "                                                                                                  \n",
      " dense (Dense)               (None, 512)                  512512    ['node_features[0][0]']       \n",
      "                                                                                                  \n",
      " dropout (Dropout)           (None, 512)                  0         ['dense[0][0]']               \n",
      "                                                                                                  \n",
      " dense_1 (Dense)             (None, 2048)                 1050624   ['dropout[0][0]']             \n",
      "                                                                                                  \n",
      " reshape (Reshape)           (None, 32, 64)               0         ['dense_1[0][0]']             \n",
      "                                                                                                  \n",
      " spatial_adj (InputLayer)    [(None, None, None)]         0         []                            \n",
      "                                                                                                  \n",
      " expression_adj (InputLayer  [(None, None, None)]         0         []                            \n",
      " )                                                                                                \n",
      "                                                                                                  \n",
      " image_input (InputLayer)    [(None, 224, 224, 3)]        0         []                            \n",
      "                                                                                                  \n",
      " dual_gcn (DualGCN)          (None, None, 128)            8832      ['reshape[0][0]',             \n",
      "                                                                     'spatial_adj[0][0]',         \n",
      "                                                                     'expression_adj[0][0]']      \n",
      "                                                                                                  \n",
      " resnet50 (Functional)       (None, 7, 7, 2048)           2358771   ['image_input[0][0]']         \n",
      "                                                          2                                       \n",
      "                                                                                                  \n",
      " global_average_pooling1d (  (None, 128)                  0         ['dual_gcn[0][0]']            \n",
      " GlobalAveragePooling1D)                                                                          \n",
      "                                                                                                  \n",
      " global_average_pooling2d (  (None, 2048)                 0         ['resnet50[0][0]']            \n",
      " GlobalAveragePooling2D)                                                                          \n",
      "                                                                                                  \n",
      " concatenate (Concatenate)   (None, 2176)                 0         ['global_average_pooling1d[0][\n",
      "                                                                    0]',                          \n",
      "                                                                     'global_average_pooling2d[0][\n",
      "                                                                    0]']                          \n",
      "                                                                                                  \n",
      " dense_4 (Dense)             (None, 128)                  278656    ['concatenate[0][0]']         \n",
      "                                                                                                  \n",
      " batch_normalization_1 (Bat  (None, 128)                  512       ['dense_4[0][0]']             \n",
      " chNormalization)                                                                                 \n",
      "                                                                                                  \n",
      " dropout_2 (Dropout)         (None, 128)                  0         ['batch_normalization_1[0][0]'\n",
      "                                                                    ]                             \n",
      "                                                                                                  \n",
      " dense_5 (Dense)             (None, 4)                    516       ['dropout_2[0][0]']           \n",
      "                                                                                                  \n",
      "==================================================================================================\n",
      "Total params: 25439364 (97.04 MB)\n",
      "Trainable params: 1851140 (7.06 MB)\n",
      "Non-trainable params: 23588224 (89.98 MB)\n",
      "__________________________________________________________________________________________________\n"
     ]
    }
   ],
   "source": [
    "\n",
    "import tensorflow as tf\n",
    "from tensorflow.keras import layers, Model, regularizers\n",
    "\n",
    "# 1. Enhanced DualGCN Layer with Proper Normalization\n",
    "class DualGCN(layers.Layer):\n",
    "    def __init__(self, units=128):\n",
    "        super().__init__()\n",
    "        self.units = units\n",
    "        self.spatial_conv = layers.Dense(units, kernel_regularizer=regularizers.l2(0.001))\n",
    "        self.expr_conv = layers.Dense(units, kernel_regularizer=regularizers.l2(0.001))\n",
    "        self.bn = layers.BatchNormalization(axis=-1)\n",
    "        self.dropout = layers.Dropout(0.5)\n",
    "\n",
    "    def normalize_adjacency(self, adj):\n",
    "        \"\"\"Add self-loops and normalize adjacency matrix\"\"\"\n",
    "        adj = tf.eye(tf.shape(adj)[1], batch_shape=[tf.shape(adj)[0]]) + adj  # Add self-loops\n",
    "        row_sum = tf.reduce_sum(adj, axis=-1, keepdims=True) + 1e-6\n",
    "        norm_adj = adj / tf.sqrt(row_sum * tf.transpose(row_sum, [0, 2, 1]))\n",
    "        return norm_adj\n",
    "\n",
    "    def call(self, inputs):\n",
    "        features, spatial_adj, expr_adj = inputs\n",
    "        \n",
    "        # Normalize adjacency matrices\n",
    "        spatial_adj = self.normalize_adjacency(spatial_adj)\n",
    "        expr_adj = self.normalize_adjacency(expr_adj)\n",
    "        \n",
    "        # Graph convolutions\n",
    "        x_sp = self.spatial_conv(tf.matmul(spatial_adj, features))\n",
    "        x_ex = self.expr_conv(tf.matmul(expr_adj, features))\n",
    "        \n",
    "        # Merge features\n",
    "        x = tf.concat([x_sp, x_ex], axis=-1)\n",
    "        x = self.bn(x)\n",
    "        x = tf.nn.relu(x)\n",
    "        return self.dropout(x)\n",
    "\n",
    "# 2. Improved Model Architecture with Augmentation\n",
    "\n",
    "def build_omics_model(num_genes, num_classes):\n",
    "    # Input layers\n",
    "    features = layers.Input(shape=(num_genes,), name='node_features')\n",
    "    spatial_adj = layers.Input(shape=(None, None), name='spatial_adj')\n",
    "    expr_adj = layers.Input(shape=(None, None), name='expression_adj')\n",
    "    images = layers.Input(shape=(224, 224, 3), name='image_input')  # Preprocessed in the data generator\n",
    "\n",
    "    # Pretrained ResNet50 as image backbone\n",
    "    base_model = tf.keras.applications.ResNet50(\n",
    "        input_shape=(224, 224, 3),\n",
    "        include_top=False,\n",
    "        weights='imagenet'\n",
    "    )\n",
    "    base_model.trainable = False  # Freeze pretrained weights\n",
    "    x_img = base_model(images)  # Pass images directly since they are preprocessed\n",
    "    x_img = layers.GlobalAveragePooling2D()(x_img)\n",
    "\n",
    "    # Omics processing\n",
    "    x_features = layers.Dense(512, activation='relu', kernel_regularizer=regularizers.l2(0.001))(features)\n",
    "    x_features = layers.Dropout(0.3)(x_features)\n",
    "    x_features = layers.Dense(32 * 64, activation='relu')(x_features)\n",
    "    x_features = layers.Reshape((32, 64))(x_features)\n",
    "\n",
    "    # DualGCN processing\n",
    "    x_graph = DualGCN(64)([x_features, spatial_adj, expr_adj])\n",
    "    x_graph = layers.GlobalAveragePooling1D()(x_graph)\n",
    "\n",
    "    # Multimodal fusion\n",
    "    x = layers.Concatenate()([x_graph, x_img])\n",
    "    x = layers.Dense(128, activation='relu', kernel_regularizer=regularizers.l2(0.001))(x)\n",
    "    x = layers.BatchNormalization()(x)\n",
    "    x = layers.Dropout(0.5)(x)\n",
    "\n",
    "    # Output layer\n",
    "    outputs = layers.Dense(num_classes, activation='softmax')(x)\n",
    "\n",
    "    return Model(inputs=[features, spatial_adj, expr_adj, images], outputs=outputs)\n",
    "\n",
    "\n",
    "# Initialize and compile model\n",
    "model = build_omics_model(num_genes=1000, num_classes=4)\n",
    "model.compile(\n",
    "    optimizer=tf.keras.optimizers.Adam(learning_rate=1e-4),\n",
    "    loss='sparse_categorical_crossentropy',\n",
    "    metrics=['accuracy']\n",
    ")\n",
    "\n",
    "# Model summary\n",
    "model.summary()\n"
   ]
  },
  {
   "cell_type": "markdown",
   "id": "1a7d689b-78db-4f5f-bbd1-462ea3cb0e82",
   "metadata": {},
   "source": [
    "# **DATA SPLITTING**"
   ]
  },
  {
   "cell_type": "code",
   "execution_count": 16,
   "id": "4874e4e9-a3f8-44b1-8759-6f735702fe24",
   "metadata": {},
   "outputs": [],
   "source": [
    "# 4. Training Setup ------------------------------------------------------------\n",
    "# Split data\n",
    "from sklearn.model_selection import train_test_split\n",
    "\n",
    "spot_ids = combined_df['spot_id'].values\n",
    "train_ids, test_ids = train_test_split(spot_ids, test_size=0.2, random_state=42)\n",
    "train_ids, val_ids = train_test_split(train_ids, test_size=0.2, random_state=42)\n",
    "\n",
    "train_df = combined_df[combined_df['spot_id'].isin(train_ids)]\n",
    "val_df = combined_df[combined_df['spot_id'].isin(val_ids)]\n",
    "test_df = combined_df[combined_df['spot_id'].isin(test_ids)]\n",
    "\n",
    "# Create generators\n",
    "# Create generators with adjacency matrices\n",
    "train_gen = SpatialOmicsGenerator(combined_df, train_ids, spatial_adj, expression_adj, batch_size=32, shuffle=True, augment=True)\n",
    "val_gen = SpatialOmicsGenerator(combined_df, val_ids, spatial_adj, expression_adj, batch_size=32, shuffle=False, augment=False)\n",
    "test_gen = SpatialOmicsGenerator(combined_df, test_ids, spatial_adj, expression_adj, batch_size=32, shuffle=False, augment=False)\n"
   ]
  },
  {
   "cell_type": "code",
   "execution_count": 25,
   "id": "758bbe29-1701-4f39-97f9-050a95048052",
   "metadata": {},
   "outputs": [
    {
     "name": "stdout",
     "output_type": "stream",
     "text": [
      "\n",
      "------------------------------\n",
      "📊 Training Generator Batch Shapes:\n",
      "Batch Size: 32\n",
      "  node_features: (32, 1000)\n",
      "  spatial_adj: (32, 32, 32)\n",
      "  expression_adj: (32, 32, 32)\n",
      "  image_input: (32, 224, 224, 3)\n",
      "  Labels: (32,)\n",
      "\n",
      "------------------------------\n",
      "📊 Validation Generator Batch Shapes:\n",
      "Batch Size: 32\n",
      "  node_features: (32, 1000)\n",
      "  spatial_adj: (32, 32, 32)\n",
      "  expression_adj: (32, 32, 32)\n",
      "  image_input: (32, 224, 224, 3)\n",
      "  Labels: (32,)\n",
      "\n",
      "------------------------------\n",
      "📊 Test Generator Batch Shapes:\n",
      "Batch Size: 32\n",
      "  node_features: (32, 1000)\n",
      "  spatial_adj: (32, 32, 32)\n",
      "  expression_adj: (32, 32, 32)\n",
      "  image_input: (32, 224, 224, 3)\n",
      "  Labels: (32,)\n"
     ]
    }
   ],
   "source": [
    "def print_batch_shapes(generator, name=\"Train\"):\n",
    "    \"\"\"Utility to print batch dimensions for any generator\"\"\"\n",
    "    try:\n",
    "        # Get first batch\n",
    "        batch_data, batch_labels = generator[0]\n",
    "        \n",
    "        print(f\"\\n{'-'*30}\")\n",
    "        print(f\"📊 {name} Generator Batch Shapes:\")\n",
    "        print(f\"Batch Size: {batch_labels.shape[0]}\")\n",
    "        \n",
    "        # Print input shapes\n",
    "        for key, value in batch_data.items():\n",
    "            print(f\"  {key}: {value.shape}\")\n",
    "            \n",
    "        # Print labels shape\n",
    "        print(f\"  Labels: {batch_labels.shape}\")\n",
    "        \n",
    "    except Exception as e:\n",
    "        print(f\"❌ Error checking {name} generator: {str(e)}\")\n",
    "\n",
    "# Check all generators\n",
    "print_batch_shapes(train_gen, \"Training\")\n",
    "print_batch_shapes(val_gen, \"Validation\")\n",
    "print_batch_shapes(test_gen, \"Test\")"
   ]
  },
  {
   "cell_type": "markdown",
   "id": "76f13b40-590c-4a96-8081-3eec95a51b8d",
   "metadata": {},
   "source": [
    "# **MODEL TRAINING**"
   ]
  },
  {
   "cell_type": "code",
   "execution_count": 28,
   "id": "ae465625-002f-4d7f-a267-c5ce33348094",
   "metadata": {},
   "outputs": [
    {
     "name": "stdout",
     "output_type": "stream",
     "text": [
      "Epoch 1/50\n",
      "43/43 [==============================] - ETA: 0s - loss: 2.6587 - accuracy: 0.3831\n",
      "Epoch 1: val_loss improved from inf to 1.98386, saving model to best_model.h5\n",
      "43/43 [==============================] - 47s 1s/step - loss: 2.6587 - accuracy: 0.3831 - val_loss: 1.9839 - val_accuracy: 0.5457 - lr: 1.0000e-04\n"
     ]
    },
    {
     "name": "stderr",
     "output_type": "stream",
     "text": [
      "C:\\Users\\olanr\\anaconda3\\envs\\tf2_env\\lib\\site-packages\\keras\\src\\engine\\training.py:3079: UserWarning: You are saving your model as an HDF5 file via `model.save()`. This file format is considered legacy. We recommend using instead the native Keras format, e.g. `model.save('my_model.keras')`.\n",
      "  saving_api.save_model(\n"
     ]
    },
    {
     "name": "stdout",
     "output_type": "stream",
     "text": [
      "Epoch 2/50\n",
      "43/43 [==============================] - ETA: 0s - loss: 2.0438 - accuracy: 0.5577\n",
      "Epoch 2: val_loss improved from 1.98386 to 1.68446, saving model to best_model.h5\n"
     ]
    },
    {
     "name": "stderr",
     "output_type": "stream",
     "text": [
      "C:\\Users\\olanr\\anaconda3\\envs\\tf2_env\\lib\\site-packages\\keras\\src\\engine\\training.py:3079: UserWarning: You are saving your model as an HDF5 file via `model.save()`. This file format is considered legacy. We recommend using instead the native Keras format, e.g. `model.save('my_model.keras')`.\n",
      "  saving_api.save_model(\n"
     ]
    },
    {
     "name": "stdout",
     "output_type": "stream",
     "text": [
      "43/43 [==============================] - 45s 1s/step - loss: 2.0438 - accuracy: 0.5577 - val_loss: 1.6845 - val_accuracy: 0.6873 - lr: 1.0000e-04\n",
      "Epoch 3/50\n",
      "43/43 [==============================] - ETA: 0s - loss: 1.7395 - accuracy: 0.6302\n",
      "Epoch 3: val_loss improved from 1.68446 to 1.48853, saving model to best_model.h5\n",
      "43/43 [==============================] - 45s 1s/step - loss: 1.7395 - accuracy: 0.6302 - val_loss: 1.4885 - val_accuracy: 0.7168 - lr: 1.0000e-04\n"
     ]
    },
    {
     "name": "stderr",
     "output_type": "stream",
     "text": [
      "C:\\Users\\olanr\\anaconda3\\envs\\tf2_env\\lib\\site-packages\\keras\\src\\engine\\training.py:3079: UserWarning: You are saving your model as an HDF5 file via `model.save()`. This file format is considered legacy. We recommend using instead the native Keras format, e.g. `model.save('my_model.keras')`.\n",
      "  saving_api.save_model(\n"
     ]
    },
    {
     "name": "stdout",
     "output_type": "stream",
     "text": [
      "Epoch 4/50\n",
      "43/43 [==============================] - ETA: 0s - loss: 1.4848 - accuracy: 0.7027\n",
      "Epoch 4: val_loss improved from 1.48853 to 1.31827, saving model to best_model.h5\n"
     ]
    },
    {
     "name": "stderr",
     "output_type": "stream",
     "text": [
      "C:\\Users\\olanr\\anaconda3\\envs\\tf2_env\\lib\\site-packages\\keras\\src\\engine\\training.py:3079: UserWarning: You are saving your model as an HDF5 file via `model.save()`. This file format is considered legacy. We recommend using instead the native Keras format, e.g. `model.save('my_model.keras')`.\n",
      "  saving_api.save_model(\n"
     ]
    },
    {
     "name": "stdout",
     "output_type": "stream",
     "text": [
      "43/43 [==============================] - 66s 2s/step - loss: 1.4848 - accuracy: 0.7027 - val_loss: 1.3183 - val_accuracy: 0.7345 - lr: 1.0000e-04\n",
      "Epoch 5/50\n",
      "43/43 [==============================] - ETA: 0s - loss: 1.3129 - accuracy: 0.7382\n",
      "Epoch 5: val_loss improved from 1.31827 to 1.22091, saving model to best_model.h5\n",
      "43/43 [==============================] - 87s 2s/step - loss: 1.3129 - accuracy: 0.7382 - val_loss: 1.2209 - val_accuracy: 0.7581 - lr: 1.0000e-04\n"
     ]
    },
    {
     "name": "stderr",
     "output_type": "stream",
     "text": [
      "C:\\Users\\olanr\\anaconda3\\envs\\tf2_env\\lib\\site-packages\\keras\\src\\engine\\training.py:3079: UserWarning: You are saving your model as an HDF5 file via `model.save()`. This file format is considered legacy. We recommend using instead the native Keras format, e.g. `model.save('my_model.keras')`.\n",
      "  saving_api.save_model(\n"
     ]
    },
    {
     "name": "stdout",
     "output_type": "stream",
     "text": [
      "Epoch 6/50\n",
      "43/43 [==============================] - ETA: 0s - loss: 1.1438 - accuracy: 0.7862\n",
      "Epoch 6: val_loss improved from 1.22091 to 1.11985, saving model to best_model.h5\n",
      "43/43 [==============================] - 124s 3s/step - loss: 1.1438 - accuracy: 0.7862 - val_loss: 1.1199 - val_accuracy: 0.7906 - lr: 1.0000e-04\n"
     ]
    },
    {
     "name": "stderr",
     "output_type": "stream",
     "text": [
      "C:\\Users\\olanr\\anaconda3\\envs\\tf2_env\\lib\\site-packages\\keras\\src\\engine\\training.py:3079: UserWarning: You are saving your model as an HDF5 file via `model.save()`. This file format is considered legacy. We recommend using instead the native Keras format, e.g. `model.save('my_model.keras')`.\n",
      "  saving_api.save_model(\n"
     ]
    },
    {
     "name": "stdout",
     "output_type": "stream",
     "text": [
      "Epoch 7/50\n",
      "43/43 [==============================] - ETA: 0s - loss: 0.9818 - accuracy: 0.8284\n",
      "Epoch 7: val_loss improved from 1.11985 to 1.02769, saving model to best_model.h5\n",
      "43/43 [==============================] - 164s 4s/step - loss: 0.9818 - accuracy: 0.8284 - val_loss: 1.0277 - val_accuracy: 0.8083 - lr: 1.0000e-04\n"
     ]
    },
    {
     "name": "stderr",
     "output_type": "stream",
     "text": [
      "C:\\Users\\olanr\\anaconda3\\envs\\tf2_env\\lib\\site-packages\\keras\\src\\engine\\training.py:3079: UserWarning: You are saving your model as an HDF5 file via `model.save()`. This file format is considered legacy. We recommend using instead the native Keras format, e.g. `model.save('my_model.keras')`.\n",
      "  saving_api.save_model(\n"
     ]
    },
    {
     "name": "stdout",
     "output_type": "stream",
     "text": [
      "Epoch 8/50\n",
      "43/43 [==============================] - ETA: 0s - loss: 0.8798 - accuracy: 0.8439\n",
      "Epoch 8: val_loss improved from 1.02769 to 0.94959, saving model to best_model.h5\n",
      "43/43 [==============================] - 209s 5s/step - loss: 0.8798 - accuracy: 0.8439 - val_loss: 0.9496 - val_accuracy: 0.8171 - lr: 1.0000e-04\n"
     ]
    },
    {
     "name": "stderr",
     "output_type": "stream",
     "text": [
      "C:\\Users\\olanr\\anaconda3\\envs\\tf2_env\\lib\\site-packages\\keras\\src\\engine\\training.py:3079: UserWarning: You are saving your model as an HDF5 file via `model.save()`. This file format is considered legacy. We recommend using instead the native Keras format, e.g. `model.save('my_model.keras')`.\n",
      "  saving_api.save_model(\n"
     ]
    },
    {
     "name": "stdout",
     "output_type": "stream",
     "text": [
      "Epoch 9/50\n",
      "43/43 [==============================] - ETA: 0s - loss: 0.8216 - accuracy: 0.8595\n",
      "Epoch 9: val_loss improved from 0.94959 to 0.90418, saving model to best_model.h5\n",
      "43/43 [==============================] - 254s 6s/step - loss: 0.8216 - accuracy: 0.8595 - val_loss: 0.9042 - val_accuracy: 0.8319 - lr: 1.0000e-04\n"
     ]
    },
    {
     "name": "stderr",
     "output_type": "stream",
     "text": [
      "C:\\Users\\olanr\\anaconda3\\envs\\tf2_env\\lib\\site-packages\\keras\\src\\engine\\training.py:3079: UserWarning: You are saving your model as an HDF5 file via `model.save()`. This file format is considered legacy. We recommend using instead the native Keras format, e.g. `model.save('my_model.keras')`.\n",
      "  saving_api.save_model(\n"
     ]
    },
    {
     "name": "stdout",
     "output_type": "stream",
     "text": [
      "Epoch 10/50\n",
      "43/43 [==============================] - ETA: 0s - loss: 0.7453 - accuracy: 0.8817\n",
      "Epoch 10: val_loss improved from 0.90418 to 0.84506, saving model to best_model.h5\n"
     ]
    },
    {
     "name": "stderr",
     "output_type": "stream",
     "text": [
      "C:\\Users\\olanr\\anaconda3\\envs\\tf2_env\\lib\\site-packages\\keras\\src\\engine\\training.py:3079: UserWarning: You are saving your model as an HDF5 file via `model.save()`. This file format is considered legacy. We recommend using instead the native Keras format, e.g. `model.save('my_model.keras')`.\n",
      "  saving_api.save_model(\n"
     ]
    },
    {
     "name": "stdout",
     "output_type": "stream",
     "text": [
      "43/43 [==============================] - 306s 7s/step - loss: 0.7453 - accuracy: 0.8817 - val_loss: 0.8451 - val_accuracy: 0.8614 - lr: 1.0000e-04\n",
      "Epoch 11/50\n",
      "43/43 [==============================] - ETA: 0s - loss: 0.6923 - accuracy: 0.8942\n",
      "Epoch 11: val_loss improved from 0.84506 to 0.78407, saving model to best_model.h5\n",
      "43/43 [==============================] - 367s 9s/step - loss: 0.6923 - accuracy: 0.8942 - val_loss: 0.7841 - val_accuracy: 0.8643 - lr: 1.0000e-04\n"
     ]
    },
    {
     "name": "stderr",
     "output_type": "stream",
     "text": [
      "C:\\Users\\olanr\\anaconda3\\envs\\tf2_env\\lib\\site-packages\\keras\\src\\engine\\training.py:3079: UserWarning: You are saving your model as an HDF5 file via `model.save()`. This file format is considered legacy. We recommend using instead the native Keras format, e.g. `model.save('my_model.keras')`.\n",
      "  saving_api.save_model(\n"
     ]
    },
    {
     "name": "stdout",
     "output_type": "stream",
     "text": [
      "Epoch 12/50\n",
      "43/43 [==============================] - ETA: 0s - loss: 0.6286 - accuracy: 0.9149\n",
      "Epoch 12: val_loss improved from 0.78407 to 0.75588, saving model to best_model.h5\n"
     ]
    },
    {
     "name": "stderr",
     "output_type": "stream",
     "text": [
      "C:\\Users\\olanr\\anaconda3\\envs\\tf2_env\\lib\\site-packages\\keras\\src\\engine\\training.py:3079: UserWarning: You are saving your model as an HDF5 file via `model.save()`. This file format is considered legacy. We recommend using instead the native Keras format, e.g. `model.save('my_model.keras')`.\n",
      "  saving_api.save_model(\n"
     ]
    },
    {
     "name": "stdout",
     "output_type": "stream",
     "text": [
      "43/43 [==============================] - 431s 10s/step - loss: 0.6286 - accuracy: 0.9149 - val_loss: 0.7559 - val_accuracy: 0.8584 - lr: 1.0000e-04\n",
      "Epoch 13/50\n",
      "43/43 [==============================] - ETA: 0s - loss: 0.6134 - accuracy: 0.9238\n",
      "Epoch 13: val_loss improved from 0.75588 to 0.69769, saving model to best_model.h5\n"
     ]
    },
    {
     "name": "stderr",
     "output_type": "stream",
     "text": [
      "C:\\Users\\olanr\\anaconda3\\envs\\tf2_env\\lib\\site-packages\\keras\\src\\engine\\training.py:3079: UserWarning: You are saving your model as an HDF5 file via `model.save()`. This file format is considered legacy. We recommend using instead the native Keras format, e.g. `model.save('my_model.keras')`.\n",
      "  saving_api.save_model(\n"
     ]
    },
    {
     "name": "stdout",
     "output_type": "stream",
     "text": [
      "43/43 [==============================] - 489s 11s/step - loss: 0.6134 - accuracy: 0.9238 - val_loss: 0.6977 - val_accuracy: 0.8791 - lr: 1.0000e-04\n",
      "Epoch 14/50\n",
      "43/43 [==============================] - ETA: 0s - loss: 0.5861 - accuracy: 0.9253 \n",
      "Epoch 14: val_loss improved from 0.69769 to 0.65196, saving model to best_model.h5\n",
      "43/43 [==============================] - 547s 13s/step - loss: 0.5861 - accuracy: 0.9253 - val_loss: 0.6520 - val_accuracy: 0.8909 - lr: 1.0000e-04\n"
     ]
    },
    {
     "name": "stderr",
     "output_type": "stream",
     "text": [
      "C:\\Users\\olanr\\anaconda3\\envs\\tf2_env\\lib\\site-packages\\keras\\src\\engine\\training.py:3079: UserWarning: You are saving your model as an HDF5 file via `model.save()`. This file format is considered legacy. We recommend using instead the native Keras format, e.g. `model.save('my_model.keras')`.\n",
      "  saving_api.save_model(\n"
     ]
    },
    {
     "name": "stdout",
     "output_type": "stream",
     "text": [
      "Epoch 15/50\n",
      "43/43 [==============================] - ETA: 0s - loss: 0.5654 - accuracy: 0.9312 \n",
      "Epoch 15: val_loss improved from 0.65196 to 0.58251, saving model to best_model.h5\n"
     ]
    },
    {
     "name": "stderr",
     "output_type": "stream",
     "text": [
      "C:\\Users\\olanr\\anaconda3\\envs\\tf2_env\\lib\\site-packages\\keras\\src\\engine\\training.py:3079: UserWarning: You are saving your model as an HDF5 file via `model.save()`. This file format is considered legacy. We recommend using instead the native Keras format, e.g. `model.save('my_model.keras')`.\n",
      "  saving_api.save_model(\n"
     ]
    },
    {
     "name": "stdout",
     "output_type": "stream",
     "text": [
      "43/43 [==============================] - 608s 14s/step - loss: 0.5654 - accuracy: 0.9312 - val_loss: 0.5825 - val_accuracy: 0.9292 - lr: 1.0000e-04\n",
      "Epoch 16/50\n",
      "43/43 [==============================] - ETA: 0s - loss: 0.5506 - accuracy: 0.9275 \n",
      "Epoch 16: val_loss improved from 0.58251 to 0.56961, saving model to best_model.h5\n",
      "43/43 [==============================] - 720s 17s/step - loss: 0.5506 - accuracy: 0.9275 - val_loss: 0.5696 - val_accuracy: 0.9292 - lr: 1.0000e-04\n"
     ]
    },
    {
     "name": "stderr",
     "output_type": "stream",
     "text": [
      "C:\\Users\\olanr\\anaconda3\\envs\\tf2_env\\lib\\site-packages\\keras\\src\\engine\\training.py:3079: UserWarning: You are saving your model as an HDF5 file via `model.save()`. This file format is considered legacy. We recommend using instead the native Keras format, e.g. `model.save('my_model.keras')`.\n",
      "  saving_api.save_model(\n"
     ]
    },
    {
     "name": "stdout",
     "output_type": "stream",
     "text": [
      "Epoch 17/50\n",
      "43/43 [==============================] - ETA: 0s - loss: 0.5086 - accuracy: 0.9416 \n",
      "Epoch 17: val_loss improved from 0.56961 to 0.55942, saving model to best_model.h5\n",
      "43/43 [==============================] - 751s 18s/step - loss: 0.5086 - accuracy: 0.9416 - val_loss: 0.5594 - val_accuracy: 0.9322 - lr: 1.0000e-04\n"
     ]
    },
    {
     "name": "stderr",
     "output_type": "stream",
     "text": [
      "C:\\Users\\olanr\\anaconda3\\envs\\tf2_env\\lib\\site-packages\\keras\\src\\engine\\training.py:3079: UserWarning: You are saving your model as an HDF5 file via `model.save()`. This file format is considered legacy. We recommend using instead the native Keras format, e.g. `model.save('my_model.keras')`.\n",
      "  saving_api.save_model(\n"
     ]
    },
    {
     "name": "stdout",
     "output_type": "stream",
     "text": [
      "Epoch 18/50\n",
      "43/43 [==============================] - ETA: 0s - loss: 0.5152 - accuracy: 0.9327 \n",
      "Epoch 18: val_loss improved from 0.55942 to 0.55476, saving model to best_model.h5\n",
      "43/43 [==============================] - 818s 19s/step - loss: 0.5152 - accuracy: 0.9327 - val_loss: 0.5548 - val_accuracy: 0.9233 - lr: 1.0000e-04\n"
     ]
    },
    {
     "name": "stderr",
     "output_type": "stream",
     "text": [
      "C:\\Users\\olanr\\anaconda3\\envs\\tf2_env\\lib\\site-packages\\keras\\src\\engine\\training.py:3079: UserWarning: You are saving your model as an HDF5 file via `model.save()`. This file format is considered legacy. We recommend using instead the native Keras format, e.g. `model.save('my_model.keras')`.\n",
      "  saving_api.save_model(\n"
     ]
    },
    {
     "name": "stdout",
     "output_type": "stream",
     "text": [
      "Epoch 19/50\n",
      "43/43 [==============================] - ETA: 0s - loss: 0.4943 - accuracy: 0.9371 \n",
      "Epoch 19: val_loss improved from 0.55476 to 0.51537, saving model to best_model.h5\n"
     ]
    },
    {
     "name": "stderr",
     "output_type": "stream",
     "text": [
      "C:\\Users\\olanr\\anaconda3\\envs\\tf2_env\\lib\\site-packages\\keras\\src\\engine\\training.py:3079: UserWarning: You are saving your model as an HDF5 file via `model.save()`. This file format is considered legacy. We recommend using instead the native Keras format, e.g. `model.save('my_model.keras')`.\n",
      "  saving_api.save_model(\n"
     ]
    },
    {
     "name": "stdout",
     "output_type": "stream",
     "text": [
      "43/43 [==============================] - 881s 21s/step - loss: 0.4943 - accuracy: 0.9371 - val_loss: 0.5154 - val_accuracy: 0.9381 - lr: 1.0000e-04\n",
      "Epoch 20/50\n",
      "43/43 [==============================] - ETA: 0s - loss: 0.4731 - accuracy: 0.9519 \n",
      "Epoch 20: val_loss improved from 0.51537 to 0.51328, saving model to best_model.h5\n",
      "43/43 [==============================] - 959s 22s/step - loss: 0.4731 - accuracy: 0.9519 - val_loss: 0.5133 - val_accuracy: 0.9292 - lr: 1.0000e-04\n"
     ]
    },
    {
     "name": "stderr",
     "output_type": "stream",
     "text": [
      "C:\\Users\\olanr\\anaconda3\\envs\\tf2_env\\lib\\site-packages\\keras\\src\\engine\\training.py:3079: UserWarning: You are saving your model as an HDF5 file via `model.save()`. This file format is considered legacy. We recommend using instead the native Keras format, e.g. `model.save('my_model.keras')`.\n",
      "  saving_api.save_model(\n"
     ]
    },
    {
     "name": "stdout",
     "output_type": "stream",
     "text": [
      "Epoch 21/50\n",
      "43/43 [==============================] - ETA: 0s - loss: 0.4509 - accuracy: 0.9556 \n",
      "Epoch 21: val_loss improved from 0.51328 to 0.48861, saving model to best_model.h5\n"
     ]
    },
    {
     "name": "stderr",
     "output_type": "stream",
     "text": [
      "C:\\Users\\olanr\\anaconda3\\envs\\tf2_env\\lib\\site-packages\\keras\\src\\engine\\training.py:3079: UserWarning: You are saving your model as an HDF5 file via `model.save()`. This file format is considered legacy. We recommend using instead the native Keras format, e.g. `model.save('my_model.keras')`.\n",
      "  saving_api.save_model(\n"
     ]
    },
    {
     "name": "stdout",
     "output_type": "stream",
     "text": [
      "43/43 [==============================] - 1046s 24s/step - loss: 0.4509 - accuracy: 0.9556 - val_loss: 0.4886 - val_accuracy: 0.9499 - lr: 1.0000e-04\n",
      "Epoch 22/50\n",
      "43/43 [==============================] - ETA: 0s - loss: 0.4584 - accuracy: 0.9541 \n",
      "Epoch 22: val_loss improved from 0.48861 to 0.46623, saving model to best_model.h5\n",
      "43/43 [==============================] - 1095s 26s/step - loss: 0.4584 - accuracy: 0.9541 - val_loss: 0.4662 - val_accuracy: 0.9528 - lr: 1.0000e-04\n"
     ]
    },
    {
     "name": "stderr",
     "output_type": "stream",
     "text": [
      "C:\\Users\\olanr\\anaconda3\\envs\\tf2_env\\lib\\site-packages\\keras\\src\\engine\\training.py:3079: UserWarning: You are saving your model as an HDF5 file via `model.save()`. This file format is considered legacy. We recommend using instead the native Keras format, e.g. `model.save('my_model.keras')`.\n",
      "  saving_api.save_model(\n"
     ]
    },
    {
     "name": "stdout",
     "output_type": "stream",
     "text": [
      "Epoch 23/50\n",
      "43/43 [==============================] - ETA: 0s - loss: 0.4388 - accuracy: 0.9549 \n",
      "Epoch 23: val_loss did not improve from 0.46623\n",
      "43/43 [==============================] - 1168s 27s/step - loss: 0.4388 - accuracy: 0.9549 - val_loss: 0.4698 - val_accuracy: 0.9440 - lr: 1.0000e-04\n",
      "Epoch 24/50\n",
      "43/43 [==============================] - ETA: 0s - loss: 0.4279 - accuracy: 0.9571 \n",
      "Epoch 24: val_loss did not improve from 0.46623\n",
      "43/43 [==============================] - 1251s 29s/step - loss: 0.4279 - accuracy: 0.9571 - val_loss: 0.4781 - val_accuracy: 0.9440 - lr: 1.0000e-04\n",
      "Epoch 25/50\n",
      "43/43 [==============================] - ETA: 0s - loss: 0.4151 - accuracy: 0.9652 \n",
      "Epoch 25: val_loss improved from 0.46623 to 0.46301, saving model to best_model.h5\n"
     ]
    },
    {
     "name": "stderr",
     "output_type": "stream",
     "text": [
      "C:\\Users\\olanr\\anaconda3\\envs\\tf2_env\\lib\\site-packages\\keras\\src\\engine\\training.py:3079: UserWarning: You are saving your model as an HDF5 file via `model.save()`. This file format is considered legacy. We recommend using instead the native Keras format, e.g. `model.save('my_model.keras')`.\n",
      "  saving_api.save_model(\n"
     ]
    },
    {
     "name": "stdout",
     "output_type": "stream",
     "text": [
      "43/43 [==============================] - 1304s 30s/step - loss: 0.4151 - accuracy: 0.9652 - val_loss: 0.4630 - val_accuracy: 0.9469 - lr: 1.0000e-04\n",
      "Epoch 26/50\n",
      "43/43 [==============================] - ETA: 0s - loss: 0.4140 - accuracy: 0.9615 \n",
      "Epoch 26: val_loss improved from 0.46301 to 0.44797, saving model to best_model.h5\n"
     ]
    },
    {
     "name": "stderr",
     "output_type": "stream",
     "text": [
      "C:\\Users\\olanr\\anaconda3\\envs\\tf2_env\\lib\\site-packages\\keras\\src\\engine\\training.py:3079: UserWarning: You are saving your model as an HDF5 file via `model.save()`. This file format is considered legacy. We recommend using instead the native Keras format, e.g. `model.save('my_model.keras')`.\n",
      "  saving_api.save_model(\n"
     ]
    },
    {
     "name": "stdout",
     "output_type": "stream",
     "text": [
      "43/43 [==============================] - 1351s 32s/step - loss: 0.4140 - accuracy: 0.9615 - val_loss: 0.4480 - val_accuracy: 0.9617 - lr: 1.0000e-04\n",
      "Epoch 27/50\n",
      "43/43 [==============================] - ETA: 0s - loss: 0.3929 - accuracy: 0.9697 \n",
      "Epoch 27: val_loss did not improve from 0.44797\n",
      "43/43 [==============================] - 1463s 34s/step - loss: 0.3929 - accuracy: 0.9697 - val_loss: 0.4522 - val_accuracy: 0.9469 - lr: 1.0000e-04\n",
      "Epoch 28/50\n",
      "43/43 [==============================] - ETA: 0s - loss: 0.3752 - accuracy: 0.9726 \n",
      "Epoch 28: val_loss improved from 0.44797 to 0.43839, saving model to best_model.h5\n"
     ]
    },
    {
     "name": "stderr",
     "output_type": "stream",
     "text": [
      "C:\\Users\\olanr\\anaconda3\\envs\\tf2_env\\lib\\site-packages\\keras\\src\\engine\\training.py:3079: UserWarning: You are saving your model as an HDF5 file via `model.save()`. This file format is considered legacy. We recommend using instead the native Keras format, e.g. `model.save('my_model.keras')`.\n",
      "  saving_api.save_model(\n"
     ]
    },
    {
     "name": "stdout",
     "output_type": "stream",
     "text": [
      "43/43 [==============================] - 1534s 36s/step - loss: 0.3752 - accuracy: 0.9726 - val_loss: 0.4384 - val_accuracy: 0.9528 - lr: 1.0000e-04\n",
      "Epoch 29/50\n",
      "43/43 [==============================] - ETA: 0s - loss: 0.3696 - accuracy: 0.9786 \n",
      "Epoch 29: val_loss improved from 0.43839 to 0.43112, saving model to best_model.h5\n"
     ]
    },
    {
     "name": "stderr",
     "output_type": "stream",
     "text": [
      "C:\\Users\\olanr\\anaconda3\\envs\\tf2_env\\lib\\site-packages\\keras\\src\\engine\\training.py:3079: UserWarning: You are saving your model as an HDF5 file via `model.save()`. This file format is considered legacy. We recommend using instead the native Keras format, e.g. `model.save('my_model.keras')`.\n",
      "  saving_api.save_model(\n"
     ]
    },
    {
     "name": "stdout",
     "output_type": "stream",
     "text": [
      "43/43 [==============================] - 1617s 38s/step - loss: 0.3696 - accuracy: 0.9786 - val_loss: 0.4311 - val_accuracy: 0.9617 - lr: 1.0000e-04\n",
      "Epoch 30/50\n",
      "43/43 [==============================] - ETA: 0s - loss: 0.3762 - accuracy: 0.9704 \n",
      "Epoch 30: val_loss did not improve from 0.43112\n",
      "43/43 [==============================] - 1717s 40s/step - loss: 0.3762 - accuracy: 0.9704 - val_loss: 0.4325 - val_accuracy: 0.9558 - lr: 1.0000e-04\n",
      "Epoch 31/50\n",
      "43/43 [==============================] - ETA: 0s - loss: 0.3684 - accuracy: 0.9749 \n",
      "Epoch 31: ReduceLROnPlateau reducing learning rate to 4.999999873689376e-05.\n",
      "\n",
      "Epoch 31: val_loss did not improve from 0.43112\n",
      "43/43 [==============================] - 1751s 41s/step - loss: 0.3684 - accuracy: 0.9749 - val_loss: 0.4558 - val_accuracy: 0.9322 - lr: 1.0000e-04\n",
      "Epoch 32/50\n",
      "43/43 [==============================] - ETA: 0s - loss: 0.3584 - accuracy: 0.9749 \n",
      "Epoch 32: val_loss improved from 0.43112 to 0.41697, saving model to best_model.h5\n"
     ]
    },
    {
     "name": "stderr",
     "output_type": "stream",
     "text": [
      "C:\\Users\\olanr\\anaconda3\\envs\\tf2_env\\lib\\site-packages\\keras\\src\\engine\\training.py:3079: UserWarning: You are saving your model as an HDF5 file via `model.save()`. This file format is considered legacy. We recommend using instead the native Keras format, e.g. `model.save('my_model.keras')`.\n",
      "  saving_api.save_model(\n"
     ]
    },
    {
     "name": "stdout",
     "output_type": "stream",
     "text": [
      "43/43 [==============================] - 1815s 42s/step - loss: 0.3584 - accuracy: 0.9749 - val_loss: 0.4170 - val_accuracy: 0.9617 - lr: 5.0000e-05\n",
      "Epoch 33/50\n",
      "43/43 [==============================] - ETA: 0s - loss: 0.3524 - accuracy: 0.9763 \n",
      "Epoch 33: val_loss improved from 0.41697 to 0.41315, saving model to best_model.h5\n"
     ]
    },
    {
     "name": "stderr",
     "output_type": "stream",
     "text": [
      "C:\\Users\\olanr\\anaconda3\\envs\\tf2_env\\lib\\site-packages\\keras\\src\\engine\\training.py:3079: UserWarning: You are saving your model as an HDF5 file via `model.save()`. This file format is considered legacy. We recommend using instead the native Keras format, e.g. `model.save('my_model.keras')`.\n",
      "  saving_api.save_model(\n"
     ]
    },
    {
     "name": "stdout",
     "output_type": "stream",
     "text": [
      "43/43 [==============================] - 1900s 44s/step - loss: 0.3524 - accuracy: 0.9763 - val_loss: 0.4131 - val_accuracy: 0.9646 - lr: 5.0000e-05\n",
      "Epoch 34/50\n",
      "43/43 [==============================] - ETA: 0s - loss: 0.3546 - accuracy: 0.9726 \n",
      "Epoch 34: val_loss did not improve from 0.41315\n",
      "43/43 [==============================] - 2009s 47s/step - loss: 0.3546 - accuracy: 0.9726 - val_loss: 0.4171 - val_accuracy: 0.9558 - lr: 5.0000e-05\n",
      "Epoch 35/50\n",
      "43/43 [==============================] - ETA: 0s - loss: 0.3363 - accuracy: 0.9808 \n",
      "Epoch 35: val_loss did not improve from 0.41315\n",
      "43/43 [==============================] - 2042s 48s/step - loss: 0.3363 - accuracy: 0.9808 - val_loss: 0.4425 - val_accuracy: 0.9410 - lr: 5.0000e-05\n",
      "Epoch 36/50\n",
      "43/43 [==============================] - ETA: 0s - loss: 0.3375 - accuracy: 0.9830 \n",
      "Epoch 36: val_loss improved from 0.41315 to 0.40975, saving model to best_model.h5\n"
     ]
    },
    {
     "name": "stderr",
     "output_type": "stream",
     "text": [
      "C:\\Users\\olanr\\anaconda3\\envs\\tf2_env\\lib\\site-packages\\keras\\src\\engine\\training.py:3079: UserWarning: You are saving your model as an HDF5 file via `model.save()`. This file format is considered legacy. We recommend using instead the native Keras format, e.g. `model.save('my_model.keras')`.\n",
      "  saving_api.save_model(\n"
     ]
    },
    {
     "name": "stdout",
     "output_type": "stream",
     "text": [
      "43/43 [==============================] - 2130s 50s/step - loss: 0.3375 - accuracy: 0.9830 - val_loss: 0.4097 - val_accuracy: 0.9587 - lr: 5.0000e-05\n",
      "Epoch 37/50\n",
      "43/43 [==============================] - ETA: 0s - loss: 0.3301 - accuracy: 0.9874 \n",
      "Epoch 37: val_loss improved from 0.40975 to 0.40637, saving model to best_model.h5\n"
     ]
    },
    {
     "name": "stderr",
     "output_type": "stream",
     "text": [
      "C:\\Users\\olanr\\anaconda3\\envs\\tf2_env\\lib\\site-packages\\keras\\src\\engine\\training.py:3079: UserWarning: You are saving your model as an HDF5 file via `model.save()`. This file format is considered legacy. We recommend using instead the native Keras format, e.g. `model.save('my_model.keras')`.\n",
      "  saving_api.save_model(\n"
     ]
    },
    {
     "name": "stdout",
     "output_type": "stream",
     "text": [
      "43/43 [==============================] - 2210s 52s/step - loss: 0.3301 - accuracy: 0.9874 - val_loss: 0.4064 - val_accuracy: 0.9558 - lr: 5.0000e-05\n",
      "Epoch 38/50\n",
      "43/43 [==============================] - ETA: 0s - loss: 0.3294 - accuracy: 0.9845 \n",
      "Epoch 38: val_loss improved from 0.40637 to 0.40595, saving model to best_model.h5\n",
      "43/43 [==============================] - 2274s 53s/step - loss: 0.3294 - accuracy: 0.9845 - val_loss: 0.4060 - val_accuracy: 0.9676 - lr: 5.0000e-05\n"
     ]
    },
    {
     "name": "stderr",
     "output_type": "stream",
     "text": [
      "C:\\Users\\olanr\\anaconda3\\envs\\tf2_env\\lib\\site-packages\\keras\\src\\engine\\training.py:3079: UserWarning: You are saving your model as an HDF5 file via `model.save()`. This file format is considered legacy. We recommend using instead the native Keras format, e.g. `model.save('my_model.keras')`.\n",
      "  saving_api.save_model(\n"
     ]
    },
    {
     "name": "stdout",
     "output_type": "stream",
     "text": [
      "Epoch 39/50\n",
      "43/43 [==============================] - ETA: 0s - loss: 0.3260 - accuracy: 0.9845 \n",
      "Epoch 39: val_loss did not improve from 0.40595\n",
      "43/43 [==============================] - 2404s 56s/step - loss: 0.3260 - accuracy: 0.9845 - val_loss: 0.4071 - val_accuracy: 0.9646 - lr: 5.0000e-05\n",
      "Epoch 40/50\n",
      "43/43 [==============================] - ETA: 0s - loss: 0.3231 - accuracy: 0.9837 \n",
      "Epoch 40: val_loss did not improve from 0.40595\n",
      "43/43 [==============================] - 2456s 57s/step - loss: 0.3231 - accuracy: 0.9837 - val_loss: 0.4082 - val_accuracy: 0.9558 - lr: 5.0000e-05\n",
      "Epoch 41/50\n",
      "43/43 [==============================] - ETA: 0s - loss: 0.3234 - accuracy: 0.9793 \n",
      "Epoch 41: val_loss did not improve from 0.40595\n",
      "43/43 [==============================] - 2552s 60s/step - loss: 0.3234 - accuracy: 0.9793 - val_loss: 0.4178 - val_accuracy: 0.9469 - lr: 5.0000e-05\n",
      "Epoch 42/50\n",
      "43/43 [==============================] - ETA: 0s - loss: 0.3131 - accuracy: 0.9837 \n",
      "Epoch 42: val_loss improved from 0.40595 to 0.40182, saving model to best_model.h5\n"
     ]
    },
    {
     "name": "stderr",
     "output_type": "stream",
     "text": [
      "C:\\Users\\olanr\\anaconda3\\envs\\tf2_env\\lib\\site-packages\\keras\\src\\engine\\training.py:3079: UserWarning: You are saving your model as an HDF5 file via `model.save()`. This file format is considered legacy. We recommend using instead the native Keras format, e.g. `model.save('my_model.keras')`.\n",
      "  saving_api.save_model(\n"
     ]
    },
    {
     "name": "stdout",
     "output_type": "stream",
     "text": [
      "43/43 [==============================] - 2752s 64s/step - loss: 0.3131 - accuracy: 0.9837 - val_loss: 0.4018 - val_accuracy: 0.9558 - lr: 5.0000e-05\n",
      "Epoch 43/50\n",
      "43/43 [==============================] - ETA: 0s - loss: 0.3265 - accuracy: 0.9815 \n",
      "Epoch 43: ReduceLROnPlateau reducing learning rate to 2.499999936844688e-05.\n",
      "\n",
      "Epoch 43: val_loss improved from 0.40182 to 0.39881, saving model to best_model.h5\n"
     ]
    },
    {
     "name": "stderr",
     "output_type": "stream",
     "text": [
      "C:\\Users\\olanr\\anaconda3\\envs\\tf2_env\\lib\\site-packages\\keras\\src\\engine\\training.py:3079: UserWarning: You are saving your model as an HDF5 file via `model.save()`. This file format is considered legacy. We recommend using instead the native Keras format, e.g. `model.save('my_model.keras')`.\n",
      "  saving_api.save_model(\n"
     ]
    },
    {
     "name": "stdout",
     "output_type": "stream",
     "text": [
      "43/43 [==============================] - 2733s 64s/step - loss: 0.3265 - accuracy: 0.9815 - val_loss: 0.3988 - val_accuracy: 0.9646 - lr: 5.0000e-05\n",
      "Epoch 44/50\n",
      "43/43 [==============================] - ETA: 0s - loss: 0.3186 - accuracy: 0.9822 \n",
      "Epoch 44: val_loss improved from 0.39881 to 0.39766, saving model to best_model.h5\n"
     ]
    },
    {
     "name": "stderr",
     "output_type": "stream",
     "text": [
      "C:\\Users\\olanr\\anaconda3\\envs\\tf2_env\\lib\\site-packages\\keras\\src\\engine\\training.py:3079: UserWarning: You are saving your model as an HDF5 file via `model.save()`. This file format is considered legacy. We recommend using instead the native Keras format, e.g. `model.save('my_model.keras')`.\n",
      "  saving_api.save_model(\n"
     ]
    },
    {
     "name": "stdout",
     "output_type": "stream",
     "text": [
      "43/43 [==============================] - 2858s 67s/step - loss: 0.3186 - accuracy: 0.9822 - val_loss: 0.3977 - val_accuracy: 0.9558 - lr: 2.5000e-05\n",
      "Epoch 45/50\n",
      "43/43 [==============================] - ETA: 0s - loss: 0.3159 - accuracy: 0.9822 \n",
      "Epoch 45: val_loss did not improve from 0.39766\n",
      "43/43 [==============================] - 2963s 69s/step - loss: 0.3159 - accuracy: 0.9822 - val_loss: 0.3985 - val_accuracy: 0.9528 - lr: 2.5000e-05\n",
      "Epoch 46/50\n",
      "43/43 [==============================] - ETA: 0s - loss: 0.3148 - accuracy: 0.9837 \n",
      "Epoch 46: val_loss did not improve from 0.39766\n",
      "43/43 [==============================] - 3016s 70s/step - loss: 0.3148 - accuracy: 0.9837 - val_loss: 0.3997 - val_accuracy: 0.9558 - lr: 2.5000e-05\n",
      "Epoch 47/50\n",
      "43/43 [==============================] - ETA: 0s - loss: 0.3136 - accuracy: 0.9859 \n",
      "Epoch 47: val_loss did not improve from 0.39766\n",
      "43/43 [==============================] - 3115s 73s/step - loss: 0.3136 - accuracy: 0.9859 - val_loss: 0.4011 - val_accuracy: 0.9528 - lr: 2.5000e-05\n",
      "Epoch 48/50\n",
      "43/43 [==============================] - ETA: 0s - loss: 0.3062 - accuracy: 0.9867 \n",
      "Epoch 48: ReduceLROnPlateau reducing learning rate to 1.249999968422344e-05.\n",
      "\n",
      "Epoch 48: val_loss improved from 0.39766 to 0.39766, saving model to best_model.h5\n"
     ]
    },
    {
     "name": "stderr",
     "output_type": "stream",
     "text": [
      "C:\\Users\\olanr\\anaconda3\\envs\\tf2_env\\lib\\site-packages\\keras\\src\\engine\\training.py:3079: UserWarning: You are saving your model as an HDF5 file via `model.save()`. This file format is considered legacy. We recommend using instead the native Keras format, e.g. `model.save('my_model.keras')`.\n",
      "  saving_api.save_model(\n"
     ]
    },
    {
     "name": "stdout",
     "output_type": "stream",
     "text": [
      "43/43 [==============================] - 3190s 75s/step - loss: 0.3062 - accuracy: 0.9867 - val_loss: 0.3977 - val_accuracy: 0.9617 - lr: 2.5000e-05\n",
      "Epoch 49/50\n",
      "43/43 [==============================] - ETA: 0s - loss: 0.3072 - accuracy: 0.9852 \n",
      "Epoch 49: val_loss improved from 0.39766 to 0.39648, saving model to best_model.h5\n"
     ]
    },
    {
     "name": "stderr",
     "output_type": "stream",
     "text": [
      "C:\\Users\\olanr\\anaconda3\\envs\\tf2_env\\lib\\site-packages\\keras\\src\\engine\\training.py:3079: UserWarning: You are saving your model as an HDF5 file via `model.save()`. This file format is considered legacy. We recommend using instead the native Keras format, e.g. `model.save('my_model.keras')`.\n",
      "  saving_api.save_model(\n"
     ]
    },
    {
     "name": "stdout",
     "output_type": "stream",
     "text": [
      "43/43 [==============================] - 3239s 76s/step - loss: 0.3072 - accuracy: 0.9852 - val_loss: 0.3965 - val_accuracy: 0.9617 - lr: 1.2500e-05\n",
      "Epoch 50/50\n",
      "43/43 [==============================] - ETA: 0s - loss: 0.3106 - accuracy: 0.9845 \n",
      "Epoch 50: val_loss improved from 0.39648 to 0.39636, saving model to best_model.h5\n"
     ]
    },
    {
     "name": "stderr",
     "output_type": "stream",
     "text": [
      "C:\\Users\\olanr\\anaconda3\\envs\\tf2_env\\lib\\site-packages\\keras\\src\\engine\\training.py:3079: UserWarning: You are saving your model as an HDF5 file via `model.save()`. This file format is considered legacy. We recommend using instead the native Keras format, e.g. `model.save('my_model.keras')`.\n",
      "  saving_api.save_model(\n"
     ]
    },
    {
     "name": "stdout",
     "output_type": "stream",
     "text": [
      "43/43 [==============================] - 3241s 76s/step - loss: 0.3106 - accuracy: 0.9845 - val_loss: 0.3964 - val_accuracy: 0.9617 - lr: 1.2500e-05\n"
     ]
    }
   ],
   "source": [
    "model = build_omics_model(num_genes=1000, num_classes=num_classes)\n",
    "\n",
    "model.compile(\n",
    "    optimizer=tf.keras.optimizers.Adam(learning_rate=1e-4),\n",
    "    loss='sparse_categorical_crossentropy',\n",
    "    metrics=['accuracy']\n",
    ")\n",
    "\n",
    "history = model.fit(\n",
    "    train_gen,\n",
    "    validation_data=val_gen,\n",
    "    epochs=50,\n",
    "    callbacks=[\n",
    "        tf.keras.callbacks.ReduceLROnPlateau(\n",
    "            monitor='val_accuracy',\n",
    "            factor=0.5,\n",
    "            patience=5,\n",
    "            min_delta=0.001,\n",
    "            verbose=1\n",
    "        ),\n",
    "        tf.keras.callbacks.ModelCheckpoint(\n",
    "            filepath='best_model.h5',\n",
    "            monitor='val_loss',\n",
    "            save_best_only=True,\n",
    "            verbose=1\n",
    "        ),\n",
    "        tf.keras.callbacks.CSVLogger('training_log.csv')\n",
    "    ],\n",
    "    verbose=1\n",
    ")\n",
    "\n"
   ]
  },
  {
   "cell_type": "code",
   "execution_count": 30,
   "id": "bb7d568d-1851-4e84-b742-493d02f1f9ab",
   "metadata": {
    "scrolled": true
   },
   "outputs": [
    {
     "data": {
      "image/png": "[encoded data removed]",
      "text/plain": [
       "<Figure size 1200x400 with 2 Axes>"
      ]
     },
     "metadata": {},
     "output_type": "display_data"
    }
   ],
   "source": [
    "import pandas as pd\n",
    "import matplotlib.pyplot as plt\n",
    "\n",
    "df = pd.read_csv('training_log.csv')\n",
    "plt.figure(figsize=(12, 4))\n",
    "plt.subplot(1, 2, 1)\n",
    "plt.plot(df['accuracy'], label='Train')\n",
    "plt.plot(df['val_accuracy'], label='Validation')\n",
    "plt.title('Accuracy')\n",
    "plt.legend()\n",
    "\n",
    "plt.subplot(1, 2, 2)\n",
    "plt.plot(df['loss'], label='Train')\n",
    "plt.plot(df['val_loss'], label='Validation')\n",
    "plt.title('Loss')\n",
    "plt.legend()\n",
    "plt.show()\n"
   ]
  },
  {
   "cell_type": "code",
   "execution_count": 32,
   "id": "43cc2cbc-ba20-420c-ac46-6f70dfcbdafa",
   "metadata": {},
   "outputs": [
    {
     "name": "stdout",
     "output_type": "stream",
     "text": [
      "14/14 [==============================] - 840s 60s/step - loss: 0.3606 - accuracy: 0.9716\n",
      "✅ Test Loss: 0.3606\n",
      "✅ Test Accuracy: 0.9716\n"
     ]
    }
   ],
   "source": [
    "test_results = model.evaluate(test_gen)\n",
    "print(f\"✅ Test Loss: {test_results[0]:.4f}\")\n",
    "print(f\"✅ Test Accuracy: {test_results[1]:.4f}\")\n",
    "# print(f\"✅ Test AUC: {test_results[2]:.4f}\")"
   ]
  },
  {
   "cell_type": "code",
   "execution_count": 33,
   "id": "92876756-3fe7-434b-9a05-bb760a01861d",
   "metadata": {},
   "outputs": [
    {
     "name": "stdout",
     "output_type": "stream",
     "text": [
      "14/14 [==============================] - 907s 65s/step\n",
      "Average prediction confidence: 0.96\n"
     ]
    }
   ],
   "source": [
    "# Get test predictions\n",
    "y_pred = model.predict(test_gen)\n",
    "confidence = np.max(y_pred, axis=1)\n",
    "print(f\"Average prediction confidence: {np.mean(confidence):.2f}\")\n",
    "\n",
    "# If confidence >0.8 but accuracy low: indicates overfitting\n",
    "# If confidence ~0.25 (for 4 classes): model is uncertain"
   ]
  },
  {
   "cell_type": "code",
   "execution_count": 58,
   "id": "a5b59508-b576-4ab6-97c2-653334b47072",
   "metadata": {},
   "outputs": [
    {
     "data": {
      "image/png": "[encoded data removed]",
      "text/plain": [
       "<Figure size 800x600 with 2 Axes>"
      ]
     },
     "metadata": {},
     "output_type": "display_data"
    }
   ],
   "source": [
    "from sklearn.metrics import confusion_matrix\n",
    "import seaborn as sns\n",
    "import matplotlib.pyplot as plt\n",
    "\n",
    "# Get predictions\n",
    "y_true = []\n",
    "y_pred = []\n",
    "\n",
    "for i in range(len(test_gen)):\n",
    "    X, y = test_gen[i]\n",
    "    preds = model.predict(X, verbose=0)\n",
    "    y_pred.extend(preds.argmax(axis=1))\n",
    "    y_true.extend(y)  # ✅ Fixed this line\n",
    "\n",
    "# Confusion Matrix\n",
    "conf_matrix = confusion_matrix(y_true, y_pred)\n",
    "\n",
    "# ✅ Use class labels from LabelEncoder\n",
    "class_labels = le.classes_\n",
    "\n",
    "# Plot\n",
    "plt.figure(figsize=(8,6))\n",
    "sns.heatmap(conf_matrix, annot=True, fmt=\"d\", cmap=\"Blues\",\n",
    "            xticklabels=class_labels, yticklabels=class_labels)\n",
    "plt.xlabel(\"Predicted Label\")\n",
    "plt.ylabel(\"True Label\")\n",
    "plt.title(\"Confusion Matrix\")\n",
    "plt.show()\n",
    "\n"
   ]
  },
  {
   "cell_type": "code",
   "execution_count": 60,
   "id": "cd3c86f1-310f-40ad-af9b-9e124bbc0a6f",
   "metadata": {},
   "outputs": [
    {
     "data": {
      "image/png": "[encoded data removed]",
      "text/plain": [
       "<Figure size 800x600 with 1 Axes>"
      ]
     },
     "metadata": {},
     "output_type": "display_data"
    },
    {
     "name": "stdout",
     "output_type": "stream",
     "text": [
      "\n",
      "✅ Weighted Average AUC: 0.9791\n"
     ]
    }
   ],
   "source": [
    "from sklearn.metrics import roc_curve, auc\n",
    "from tensorflow.keras.utils import to_categorical\n",
    "import numpy as np\n",
    "import matplotlib.pyplot as plt\n",
    "\n",
    "# Class labels in label encoder order\n",
    "class_labels = le.classes_\n",
    "num_classes = len(class_labels)\n",
    "\n",
    "# ✅ Convert to one-hot\n",
    "y_true_one_hot = to_categorical(y_true, num_classes=num_classes)\n",
    "y_pred_one_hot = to_categorical(y_pred, num_classes=num_classes)\n",
    "\n",
    "# ✅ Count true samples per class\n",
    "class_counts = np.sum(y_true_one_hot, axis=0)\n",
    "\n",
    "# === Plot ROC & Calculate AUC ===\n",
    "plt.figure(figsize=(8, 6))\n",
    "AUCs = []\n",
    "\n",
    "for i, class_name in enumerate(class_labels):\n",
    "    if class_counts[i] == 0:\n",
    "        print(f\"⚠️ Skipping {class_name} - No true samples.\")\n",
    "        AUCs.append(0)\n",
    "        continue\n",
    "\n",
    "    fpr, tpr, _ = roc_curve(y_true_one_hot[:, i], y_pred_one_hot[:, i])\n",
    "    auc_score = auc(fpr, tpr)\n",
    "    AUCs.append(auc_score)\n",
    "\n",
    "    plt.plot(fpr, tpr, label=f\"{class_name} (AUC = {auc_score:.2f})\")\n",
    "\n",
    "# Plot diagonal\n",
    "plt.plot([0, 1], [0, 1], 'k--', label=\"Random\")\n",
    "\n",
    "# Finalize plot\n",
    "plt.xlabel(\"False Positive Rate\")\n",
    "plt.ylabel(\"True Positive Rate\")\n",
    "plt.title(\"ROC Curve by Class\")\n",
    "plt.legend(loc=\"lower right\")\n",
    "plt.grid(True)\n",
    "plt.tight_layout()\n",
    "plt.show()\n",
    "\n",
    "# ✅ Weighted Average AUC\n",
    "total_samples = np.sum(class_counts)\n",
    "weighted_AUC = np.sum([AUCs[i] * class_counts[i] for i in range(num_classes)]) / total_samples\n",
    "\n",
    "print(f\"\\n✅ Weighted Average AUC: {weighted_AUC:.4f}\")\n"
   ]
  },
  {
   "cell_type": "code",
   "execution_count": 62,
   "id": "1502a8d3-96dc-4197-befa-8a3fe3853456",
   "metadata": {},
   "outputs": [
    {
     "name": "stdout",
     "output_type": "stream",
     "text": [
      "Classification Report:\n",
      "               precision    recall  f1-score   support\n",
      "\n",
      "        p100       0.93      0.95      0.94        86\n",
      "        p120       0.98      0.97      0.98       195\n",
      "         p30       0.98      0.99      0.99       115\n",
      "         p70       1.00      0.93      0.96        27\n",
      "\n",
      "    accuracy                           0.97       423\n",
      "   macro avg       0.97      0.96      0.97       423\n",
      "weighted avg       0.97      0.97      0.97       423\n",
      "\n",
      "Accuracy: 0.97\n"
     ]
    }
   ],
   "source": [
    "# Compute classification metrics\n",
    "from sklearn.metrics import classification_report, accuracy_score\n",
    "\n",
    "report = classification_report(y_true, y_pred, target_names=class_labels)\n",
    "accuracy = accuracy_score(y_true, y_pred)\n",
    "\n",
    "# Display results\n",
    "print(\"Classification Report:\\n\", report)\n",
    "print(f\"Accuracy: {accuracy:.2f}\")"
   ]
  },
  {
   "cell_type": "code",
   "execution_count": 50,
   "id": "41d35eb0-92b4-4f68-856b-8d01e74a6980",
   "metadata": {},
   "outputs": [
    {
     "name": "stdout",
     "output_type": "stream",
     "text": [
      "Class p100 - TPR (Sensitivity): 0.95, TNR (Specificity): 0.98\n",
      "Class p120 - TPR (Sensitivity): 0.97, TNR (Specificity): 0.98\n",
      "Class p30 - TPR (Sensitivity): 0.99, TNR (Specificity): 0.99\n",
      "Class p70 - TPR (Sensitivity): 0.93, TNR (Specificity): 1.00\n",
      "\n",
      "✅ Weighted Average TPR (Sensitivity): 0.97\n",
      "✅ Weighted Average TNR (Specificity): 0.99\n"
     ]
    }
   ],
   "source": [
    "from sklearn.metrics import confusion_matrix\n",
    "import numpy as np\n",
    "\n",
    "# ✅ Use class labels from LabelEncoder\n",
    "class_labels = le.classes_\n",
    "n_classes = len(class_labels)\n",
    "\n",
    "# ✅ Get class counts based on y_true\n",
    "class_counts = [np.sum(np.array(y_true) == i) for i in range(n_classes)]\n",
    "\n",
    "# ✅ Generate confusion matrix\n",
    "conf_matrix = confusion_matrix(y_true, y_pred)\n",
    "\n",
    "# Initialize TPR and TNR lists\n",
    "TPR = []  # Sensitivity\n",
    "TNR = []  # Specificity\n",
    "\n",
    "# ✅ Compute TPR and TNR for each class\n",
    "for i, class_name in enumerate(class_labels):\n",
    "    TP = conf_matrix[i, i]\n",
    "    FN = conf_matrix[i, :].sum() - TP\n",
    "    FP = conf_matrix[:, i].sum() - TP\n",
    "    TN = conf_matrix.sum() - (TP + FN + FP)\n",
    "\n",
    "    tpr = TP / (TP + FN) if (TP + FN) != 0 else 0\n",
    "    tnr = TN / (TN + FP) if (TN + FP) != 0 else 0\n",
    "\n",
    "    TPR.append(tpr)\n",
    "    TNR.append(tnr)\n",
    "\n",
    "    print(f\"Class {class_name} - TPR (Sensitivity): {tpr:.2f}, TNR (Specificity): {tnr:.2f}\")\n",
    "\n",
    "# ✅ Compute weighted averages\n",
    "total_samples = np.sum(class_counts)\n",
    "weighted_TPR = np.sum([TPR[i] * class_counts[i] for i in range(n_classes)]) / total_samples\n",
    "weighted_TNR = np.sum([TNR[i] * class_counts[i] for i in range(n_classes)]) / total_samples\n",
    "\n",
    "# ✅ Display results\n",
    "print(f\"\\n✅ Weighted Average TPR (Sensitivity): {weighted_TPR:.2f}\")\n",
    "print(f\"✅ Weighted Average TNR (Specificity): {weighted_TNR:.2f}\")\n"
   ]
  },
  {
   "cell_type": "code",
   "execution_count": 17,
   "id": "6ddd020d-720e-4e1f-b568-17eec3ee25b2",
   "metadata": {},
   "outputs": [
    {
     "name": "stdout",
     "output_type": "stream",
     "text": [
      "{'Correctly classified': 411, 'Incorrectly classified': 12, 'Total instances': 423, 'Kappa statistic': 0.9575, 'Mean Absolute Error': 0.0307, 'Root Mean Squared Error': 0.1883, 'Relative Absolute Error (%)': 4.61, 'Root Relative Squared Error (%)': 22.64}\n"
     ]
    }
   ],
   "source": [
    "import numpy as np\n",
    "from sklearn.metrics import cohen_kappa_score, mean_absolute_error, mean_squared_error\n",
    "\n",
    "\n",
    "\n",
    "# Confusion matrix for Hybrid GNN–CNN–MLP (Graph + Image + Gene model)\n",
    "conf_matrix_gnn_cnn_mlp = np.array([\n",
    "    [82, 4, 0, 0],     # True p100 (0)\n",
    "    [5, 190, 0, 0],    # True p120 (1)\n",
    "    [1, 0, 114, 0],    # True p30  (2)\n",
    "    [0, 0, 2, 25]      # True p70  (3)\n",
    "])\n",
    "\n",
    "# Generate true and predicted label lists\n",
    "true_labels_gnn = []\n",
    "pred_labels_gnn = []\n",
    "\n",
    "for true_class in range(conf_matrix_gnn_cnn_mlp.shape[0]):\n",
    "    for pred_class in range(conf_matrix_gnn_cnn_mlp.shape[1]):\n",
    "        count = conf_matrix_gnn_cnn_mlp[true_class, pred_class]\n",
    "        true_labels_gnn.extend([true_class] * count)\n",
    "        pred_labels_gnn.extend([pred_class] * count)\n",
    "\n",
    "# Calculate metrics\n",
    "kappa_gnn = cohen_kappa_score(true_labels_gnn, pred_labels_gnn)\n",
    "mae_gnn = mean_absolute_error(true_labels_gnn, pred_labels_gnn)\n",
    "rmse_gnn = np.sqrt (mean_squared_error(true_labels_gnn, pred_labels_gnn))\n",
    "\n",
    "\n",
    "# Relative errors\n",
    "mean_true_gnn = np.mean(true_labels_gnn)\n",
    "rae_gnn = np.sum(np.abs(np.array(true_labels_gnn) - np.array(pred_labels_gnn))) / np.sum(np.abs(np.array(true_labels_gnn) - mean_true_gnn))\n",
    "rrse_gnn = np.sqrt(np.sum((np.array(true_labels_gnn) - np.array(pred_labels_gnn))**2) / np.sum((np.array(true_labels_gnn) - mean_true_gnn)**2))\n",
    "\n",
    "metrics = {\n",
    "    \"Correctly classified\": np.trace(conf_matrix_gnn_cnn_mlp),\n",
    "    \"Incorrectly classified\": np.sum(conf_matrix_gnn_cnn_mlp) - np.trace(conf_matrix_gnn_cnn_mlp),\n",
    "    \"Total instances\": np.sum(conf_matrix_gnn_cnn_mlp),\n",
    "    \"Kappa statistic\": round(kappa_gnn, 4),\n",
    "    \"Mean Absolute Error\": round(mae_gnn, 4),\n",
    "    \"Root Mean Squared Error\": round(rmse_gnn, 4),\n",
    "    \"Relative Absolute Error (%)\": round(rae_gnn * 100, 2),\n",
    "    \"Root Relative Squared Error (%)\": round(rrse_gnn * 100, 2)\n",
    "}\n",
    "\n",
    "# Convert to plain Python types\n",
    "clean_metrics = {k: float(v) if isinstance(v, (np.float32, np.float64)) else int(v) for k, v in metrics.items()}\n",
    "\n",
    "print(clean_metrics)"
   ]
  },
  {
   "cell_type": "code",
   "execution_count": null,
   "id": "f2665fc8-af76-46ae-87c1-5b89dbfab3a7",
   "metadata": {},
   "outputs": [],
   "source": []
  }
 ],
 "metadata": {
  "kernelspec": {
   "display_name": "Python (tf2_env)",
   "language": "python",
   "name": "tf2_env"
  },
  "language_info": {
   "codemirror_mode": {
    "name": "ipython",
    "version": 3
   },
   "file_extension": ".py",
   "mimetype": "text/x-python",
   "name": "python",
   "nbconvert_exporter": "python",
   "pygments_lexer": "ipython3",
   "version": "3.10.16"
  }
 },
 "nbformat": 4,
 "nbformat_minor": 5
}
