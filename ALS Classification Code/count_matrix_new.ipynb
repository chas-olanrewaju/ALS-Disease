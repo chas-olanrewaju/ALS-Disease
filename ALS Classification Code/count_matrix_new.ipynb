{
 "cells": [
  {
   "cell_type": "code",
   "execution_count": 1,
   "id": "9b86f35d-898f-4629-9847-d1ca3cd9b078",
   "metadata": {},
   "outputs": [
    {
     "name": "stdout",
     "output_type": "stream",
     "text": [
      "Number of expressed genes a spot must have to be kept (0.01% of total expressed genes) 132\n",
      "Dropped 21 spots\n",
      "Removing genes that are expressed in less than 22 spots with a count of at least 1\n",
      "Dropped 6542 genes\n",
      "Saving processed dataset to: ../dataset/cm_norm.tsv\n",
      "Dataset saved successfully!\n",
      "\n",
      "Processing completed! ✅\n"
     ]
    }
   ],
   "source": [
    "import pandas as pd\n",
    "import numpy as np\n",
    "import os\n",
    "import glob\n",
    "from config import *\n",
    "\n",
    "def add_label(dataframe, label, meta):\n",
    "    \"\"\"\n",
    "    Add a label column to the given dataframe based on metadata.\n",
    "\n",
    "    Parameters:\n",
    "    dataframe (pd.DataFrame): Dataframe containing gene expression data.\n",
    "    label (str): The label column name to be added.\n",
    "    meta (pd.DataFrame): Metadata dataframe where labels are stored.\n",
    "\n",
    "    Returns:\n",
    "    pd.DataFrame: Updated dataframe with the new label column.\n",
    "    \"\"\"\n",
    "    label_list = []\n",
    "    for spot in dataframe.index.values:\n",
    "        # Extract sample ID by removing the last underscore-separated segment\n",
    "        sample_id = '_'.join(spot.split('_')[:-1])\n",
    "        # Retrieve the corresponding label from metadata\n",
    "        spot_label = meta.loc[sample_id, label]\n",
    "        label_list.append(spot_label)\n",
    "    # Add the extracted labels to the dataframe\n",
    "    dataframe[label] = label_list\n",
    "    return dataframe\n",
    "\n",
    "\n",
    "if __name__ == '__main__':\n",
    "    # Load metadata file, assuming tab-separated values\n",
    "    meta_mouse = pd.read_csv(META_PATH, header=0, sep='\\t', index_col=0)\n",
    "    # Extract sample names from the metadata index\n",
    "    sample_name = list(meta_mouse.index)\n",
    "    \n",
    "    total_counts = pd.DataFrame()  # Initialize an empty dataframe to store combined data\n",
    "    \n",
    "    # Iterate over all text files in the CM_PATH directory\n",
    "    for file in glob.glob(CM_PATH+'*.txt'):\n",
    "        # Extract sample name from the filename\n",
    "        sample_n = '_'.join(os.path.basename(file).split(\"_\")[0:-4])\n",
    "        \n",
    "        # Process only if the sample is present in metadata\n",
    "        if sample_n in sample_name:\n",
    "            # Load the count matrix (genes as columns, spots as rows)\n",
    "            cm = pd.read_csv(file, header=0, sep='\\t', index_col=0)\n",
    "            \n",
    "            # Reformat spot names to include sample name as prefix\n",
    "            new_spots = [\"{0}_{1}\".format(sample_n, spot) for spot in cm.index]\n",
    "            cm.index = new_spots\n",
    "            \n",
    "            # Concatenate current sample data with total_counts dataframe\n",
    "            total_counts = pd.concat([total_counts, cm], sort=False)\n",
    "\n",
    "    # Replace infinite values with NaN and fill missing values with 0\n",
    "    total_counts.replace([np.inf, -np.inf], np.nan)\n",
    "    total_counts.fillna(0.0, inplace=True)\n",
    "\n",
    "    # Store initial counts for logging purposes\n",
    "    num_spots = len(total_counts.index)\n",
    "    num_genes = len(total_counts.columns)\n",
    "\n",
    "    # Remove low-quality spots\n",
    "    min_genes_spot = round((total_counts != 0).sum(axis=1).quantile(THRESHOLD_SPOT))\n",
    "    print(\"Number of expressed genes a spot must have to be kept ({}% of total expressed genes) {}\".format(THRESHOLD_SPOT, min_genes_spot))\n",
    "    \n",
    "    # Filter out spots that express fewer genes than the threshold\n",
    "    total_counts = total_counts[(total_counts != 0).sum(axis=1) >= min_genes_spot]\n",
    "    print(\"Dropped {} spots\".format(num_spots - len(total_counts.index)))\n",
    "\n",
    "    # Transpose the dataframe to have spots as columns and genes as rows\n",
    "    total_counts = total_counts.transpose()\n",
    "\n",
    "    # Remove low-quality genes\n",
    "    min_spots_gene = round(len(total_counts.columns) * THRESHOLD_GENE)\n",
    "    print(\"Removing genes that are expressed in less than {} spots with a count of at least {}\".format(min_spots_gene, MIN_EXP))\n",
    "    \n",
    "    # Filter out genes that do not meet the minimum expression criteria\n",
    "    total_counts = total_counts[(total_counts >= MIN_EXP).sum(axis=1) >= min_spots_gene]\n",
    "    print(\"Dropped {} genes\".format(num_genes - len(total_counts.index)))\n",
    "\n",
    "    # Transpose back to have genes as columns and spots as rows\n",
    "    total_counts = total_counts.transpose()\n",
    "\n",
    "    # Normalize gene expression data by dividing each value by the total sum per spot\n",
    "    row_sum = total_counts.sum(axis=1)\n",
    "    normal_total_counts = total_counts.div(row_sum, axis=0)\n",
    "\n",
    "    # Add labels to the normalized data\n",
    "    normal_total_counts = add_label(normal_total_counts, LABEL_COLUMN, meta_mouse)\n",
    "    if CONDITION_COLUMN:\n",
    "        normal_total_counts = add_label(normal_total_counts, CONDITION_COLUMN, meta_mouse)\n",
    "\n",
    "    # Save the final processed data\n",
    "    output_path = os.path.join(DATASET_PATH, 'cm_norm.tsv')\n",
    "    print(f\"Saving processed dataset to: {output_path}\")\n",
    "    normal_total_counts.to_csv(output_path, sep='\\t')\n",
    "    print(\"Dataset saved successfully!\\n\")\n",
    "\n",
    "    print(\"Processing completed! ✅\")\n"
   ]
  },
  {
   "cell_type": "code",
   "execution_count": 3,
   "id": "b7827bb7-cfc7-4c4b-90e6-0cc2ce208606",
   "metadata": {},
   "outputs": [
    {
     "name": "stdout",
     "output_type": "stream",
     "text": [
      "Index(['Unnamed: 0', 'Fam234a', 'Nefl', 'Sema5a', 'Tom1l2', 'Nbea', 'Mif',\n",
      "       'Pcsk1n', 'Tsfm', 'Zfp706'],\n",
      "      dtype='object')\n"
     ]
    }
   ],
   "source": [
    "# Load the TSV file as a DataFrame\n",
    "df = pd.read_csv(output_path, sep=\"\\t\")\n",
    "\n",
    "# Print the first 10 column names\n",
    "print(df.columns[0:10])"
   ]
  },
  {
   "cell_type": "code",
   "execution_count": 25,
   "id": "1fa330a2-767a-448b-879e-cc9bbe501287",
   "metadata": {},
   "outputs": [
    {
     "name": "stdout",
     "output_type": "stream",
     "text": [
      "Last two columns: ['age', 'breed']\n"
     ]
    }
   ],
   "source": [
    "# Get the last two column names\n",
    "last_two_columns = df.columns[-2:]\n",
    "\n",
    "# Print the column names\n",
    "print(\"Last two columns:\", last_two_columns.tolist())"
   ]
  },
  {
   "cell_type": "code",
   "execution_count": 5,
   "id": "31afa8e8-7683-4748-bf63-e66e29326292",
   "metadata": {},
   "outputs": [
    {
     "name": "stdout",
     "output_type": "stream",
     "text": [
      "Row (Spots) = 2239, Column (Genes) = 11640\n"
     ]
    }
   ],
   "source": [
    "\n",
    "df = pd.read_csv(output_path, sep=\"\\t\")\n",
    "# Extract the number of rows (spots) and columns (genes)\n",
    "num_rows, num_columns = df.shape\n",
    "\n",
    "# Subtract 2 from the number of columns since they are not part of the genes\n",
    "num_columns -= 2\n",
    "\n",
    "# Print formatted output\n",
    "print(f\"Row (Spots) = {num_rows}, Column (Genes) = {num_columns}\")"
   ]
  },
  {
   "cell_type": "code",
   "execution_count": 7,
   "id": "d412e68b-d861-4c9e-9e9c-7f334c9c49e3",
   "metadata": {},
   "outputs": [
    {
     "name": "stdout",
     "output_type": "stream",
     "text": [
      "✅ Spatial coordinates extracted and saved to ../dataset/spatial_coords.tsv\n"
     ]
    }
   ],
   "source": [
    "\n",
    "import re  # For regex pattern matching\n",
    "\n",
    "# Define paths\n",
    "#output_file = os.path.join(DATASET_PATH, \"cm_norm.tsv\")\n",
    "spatco_path = os.path.join(DATASET_PATH, \"spatial_coords.tsv\")\n",
    "\n",
    "def extract_spatial_coords_from_file(output_path, spatco_path):\n",
    "    \"\"\"\n",
    "    Extract spatial X, Y coordinates from cm_norm.tsv and save to a file.\n",
    "\n",
    "    Parameters:\n",
    "    output_file (str): Path to the count matrix file (cm_norm.tsv).\n",
    "    spatco_path (str): Path to save the extracted spatial coordinates.\n",
    "\n",
    "    Returns:\n",
    "    pd.DataFrame: DataFrame with extracted X, Y coordinates.\n",
    "    \"\"\"\n",
    "    # Load the count matrix (only the index is needed)\n",
    "    cm = pd.read_csv(output_path, sep=\"\\t\", index_col=0)\n",
    "\n",
    "    # Extract X, Y coordinates from spot names\n",
    "    spatial_coords = cm.index.to_series().str.extract(r'(?P<X>[\\d.]+)x(?P<Y>[\\d.]+)').astype(float)\n",
    "\n",
    "    # Save spatial coordinates\n",
    "    spatial_coords.to_csv(spatco_path, sep=\"\\t\")\n",
    "    print(f\"✅ Spatial coordinates extracted and saved to {spatco_path}\")\n",
    "\n",
    "    return spatial_coords\n",
    "\n",
    "# Run the extraction function\n",
    "spatial_coords = extract_spatial_coords_from_file(output_path, spatco_path)\n"
   ]
  },
  {
   "cell_type": "code",
   "execution_count": 9,
   "id": "137399a9-0e8e-4ab6-96af-115674dcbad5",
   "metadata": {
    "scrolled": true
   },
   "outputs": [
    {
     "name": "stdout",
     "output_type": "stream",
     "text": [
      "Num GPUs Available:  1\n"
     ]
    }
   ],
   "source": [
    "import tensorflow as tf\n",
    "print(\"Num GPUs Available: \", len(tf.config.list_physical_devices('GPU')))\n"
   ]
  },
  {
   "cell_type": "code",
   "execution_count": null,
   "id": "703f68be-6e5e-4108-bc51-44fb5dc5141d",
   "metadata": {},
   "outputs": [],
   "source": []
  }
 ],
 "metadata": {
  "kernelspec": {
   "display_name": "Python (tf_env)",
   "language": "python",
   "name": "tf_env"
  },
  "language_info": {
   "codemirror_mode": {
    "name": "ipython",
    "version": 3
   },
   "file_extension": ".py",
   "mimetype": "text/x-python",
   "name": "python",
   "nbconvert_exporter": "python",
   "pygments_lexer": "ipython3",
   "version": "3.10.16"
  }
 },
 "nbformat": 4,
 "nbformat_minor": 5
}
